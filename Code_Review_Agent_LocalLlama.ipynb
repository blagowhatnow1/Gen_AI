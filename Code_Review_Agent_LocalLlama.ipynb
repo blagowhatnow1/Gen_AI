{
 "cells": [
  {
   "cell_type": "code",
   "execution_count": null,
   "id": "180bb252",
   "metadata": {},
   "outputs": [],
   "source": [
    "#Env details\n",
    "#Python 3.9.21\n",
    "\n",
    "# 2. Install notebook and jupyter_server (try a compatible version)\n",
    "#conda install notebook=6.4.12 jupyter_server=1.23.4 -y\n",
    "\n",
    "# 3. Use pip to install a compatible traitlets version (5.7.0 is safe with notebook 6.x)\n",
    "#pip install traitlets==5.7.0\n",
    "\n",
    "# 4. Install LangChain and other dependencies\n",
    "#pip install langchain langchain_community"
   ]
  },
  {
   "cell_type": "code",
   "execution_count": 3,
   "id": "965ea303",
   "metadata": {},
   "outputs": [],
   "source": [
    "# Cell 2: Import necessary modules\n",
    "from langchain.chains import LLMChain\n",
    "from langchain.prompts import PromptTemplate\n",
    "from langchain_community.chat_models import ChatOllama\n",
    "\n",
    "# Cell 3: Define the prompt template\n",
    "prompt_template = PromptTemplate(\n",
    "    input_variables=[\"code\"],\n",
    "    template=\"\"\"\n",
    "You are an expert software engineer and AI code reviewer.\n",
    "\n",
    "Please review the following code carefully. Identify:\n",
    "- Bugs or logical issues\n",
    "- Code smells or poor practices\n",
    "- Style or formatting issues\n",
    "- Security or performance concerns\n",
    "- Suggestions for improvement\n",
    "\n",
    "Return your review in a clear, bullet-point format.\n",
    "\n",
    "Code to review:\n",
    "```python\n",
    "{code}\n",
    "\"\"\"\n",
    ")"
   ]
  },
  {
   "cell_type": "code",
   "execution_count": 4,
   "id": "bf292e66",
   "metadata": {},
   "outputs": [
    {
     "name": "stderr",
     "output_type": "stream",
     "text": [
      "/var/folders/gn/q74krdhn4f50b31d_rx64cjr0000gn/T/ipykernel_25366/865465729.py:1: LangChainDeprecationWarning: The class `ChatOllama` was deprecated in LangChain 0.3.1 and will be removed in 1.0.0. An updated version of the class exists in the :class:`~langchain-ollama package and should be used instead. To use it run `pip install -U :class:`~langchain-ollama` and import as `from :class:`~langchain_ollama import ChatOllama``.\n",
      "  llm = ChatOllama(model=\"llama3.2\")\n"
     ]
    }
   ],
   "source": [
    "llm = ChatOllama(model=\"llama3.2\") "
   ]
  },
  {
   "cell_type": "code",
   "execution_count": 8,
   "id": "2fbb2321",
   "metadata": {},
   "outputs": [
    {
     "name": "stderr",
     "output_type": "stream",
     "text": [
      "/var/folders/gn/q74krdhn4f50b31d_rx64cjr0000gn/T/ipykernel_25366/1546045208.py:1: LangChainDeprecationWarning: The class `LLMChain` was deprecated in LangChain 0.1.17 and will be removed in 1.0. Use :meth:`~RunnableSequence, e.g., `prompt | llm`` instead.\n",
      "  chain = LLMChain(llm=llm, prompt=prompt_template)\n"
     ]
    }
   ],
   "source": [
    "chain = LLMChain(llm=llm, prompt=prompt_template)"
   ]
  },
  {
   "cell_type": "code",
   "execution_count": 9,
   "id": "9e6aafcd",
   "metadata": {},
   "outputs": [],
   "source": [
    "code_to_review = \"\"\"\n",
    "def get_user_info(user_id):\n",
    "user = db.query(\"SELECT * FROM users WHERE id = '%s'\" % user_id)\n",
    "return user\n",
    "\"\"\""
   ]
  },
  {
   "cell_type": "code",
   "execution_count": 10,
   "id": "9eab139c",
   "metadata": {},
   "outputs": [
    {
     "name": "stderr",
     "output_type": "stream",
     "text": [
      "/var/folders/gn/q74krdhn4f50b31d_rx64cjr0000gn/T/ipykernel_25366/771745214.py:1: LangChainDeprecationWarning: The method `Chain.run` was deprecated in langchain 0.1.0 and will be removed in 1.0. Use :meth:`~invoke` instead.\n",
      "  response = chain.run(code=code_to_review)\n"
     ]
    }
   ],
   "source": [
    "response = chain.run(code=code_to_review)"
   ]
  },
  {
   "cell_type": "code",
   "execution_count": 11,
   "id": "9562c228",
   "metadata": {},
   "outputs": [
    {
     "name": "stdout",
     "output_type": "stream",
     "text": [
      "🔍 Code Review Output:\n",
      "\n",
      "**Review**\n",
      "\n",
      "* **Security Concern:** The query is vulnerable to SQL injection attacks. Using string formatting with user input directly in the SQL query can lead to malicious code execution.\n",
      "\n",
      "* **Performance Issue:** The database query will retrieve all columns (`SELECT *`) instead of only the required ones, which can result in unnecessary data being transferred and potentially slow down your application.\n",
      "\n",
      "* **Logical Issue:** The function is supposed to return user information, but it's currently returning a SQLAlchemy query object. Consider modifying the code to retrieve the actual data from the database.\n",
      "\n",
      "* **Code Smell:**\n",
      "\t+ The `db` variable should be imported with its full scope or type hinted for better readability.\n",
      "\t+ The variable name `user_id` can be improved by using a more descriptive name, such as `user_data_request`.\n",
      "\t+ The function could benefit from adding error handling to handle potential database errors.\n",
      "\n",
      "* **Style and Formatting Issues:**\n",
      "\t+ There are no consistent spacing between lines or indentation levels throughout the code snippet.\n",
      "\t+ Consider using f-strings instead of string formatting for better readability.\n",
      "\n",
      "* **Suggestions for Improvement:**\n",
      "\n",
      "```python\n",
      "from sqlalchemy import create_engine, text\n",
      "\n",
      "def get_user_info(user_data_request: int):\n",
      "    # Define the database connection\n",
      "    engine = create_engine('your_database_url')\n",
      "\n",
      "    try:\n",
      "        query = text(\"SELECT * FROM users WHERE id = :user_id\")\n",
      "        user = engine.execute(query, {\"user_id\": user_data_request})\n",
      "        result = user.fetchone()\n",
      "        \n",
      "        if result:\n",
      "            return dict(result)  # Assuming the database returns a tuple\n",
      "        \n",
      "        # Handle the case when no user is found\n",
      "        return None\n",
      "    \n",
      "    except Exception as e:\n",
      "        print(f\"An error occurred: {e}\")\n",
      "        return None\n",
      "\n",
      "```\n",
      "\n",
      "This refactored code addresses the mentioned issues, using SQLAlchemy's `text` method to create a parameterized query, improving performance and security. It also includes basic error handling and follows PEP 8 guidelines for style and formatting.\n"
     ]
    }
   ],
   "source": [
    "# Display the result\n",
    "print(\"🔍 Code Review Output:\\n\")\n",
    "print(response)"
   ]
  }
 ],
 "metadata": {
  "kernelspec": {
   "display_name": "Python 3 (ipykernel)",
   "language": "python",
   "name": "python3"
  },
  "language_info": {
   "codemirror_mode": {
    "name": "ipython",
    "version": 3
   },
   "file_extension": ".py",
   "mimetype": "text/x-python",
   "name": "python",
   "nbconvert_exporter": "python",
   "pygments_lexer": "ipython3",
   "version": "3.9.21"
  }
 },
 "nbformat": 4,
 "nbformat_minor": 5
}
