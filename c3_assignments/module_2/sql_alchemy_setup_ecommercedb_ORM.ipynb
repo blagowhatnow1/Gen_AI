{
  "nbformat": 4,
  "nbformat_minor": 0,
  "metadata": {
    "colab": {
      "provenance": []
    },
    "kernelspec": {
      "name": "python3",
      "display_name": "Python 3"
    },
    "language_info": {
      "name": "python"
    }
  },
  "cells": [
    {
      "cell_type": "code",
      "execution_count": 25,
      "metadata": {
        "colab": {
          "base_uri": "https://localhost:8080/"
        },
        "id": "9bzVXD3cKXl-",
        "outputId": "d45896a4-4d50-4868-c704-70a2d029367e"
      },
      "outputs": [
        {
          "output_type": "stream",
          "name": "stdout",
          "text": [
            "Requirement already satisfied: sqlalchemy in /usr/local/lib/python3.11/dist-packages (2.0.40)\n",
            "Requirement already satisfied: greenlet>=1 in /usr/local/lib/python3.11/dist-packages (from sqlalchemy) (3.2.1)\n",
            "Requirement already satisfied: typing-extensions>=4.6.0 in /usr/local/lib/python3.11/dist-packages (from sqlalchemy) (4.13.2)\n"
          ]
        }
      ],
      "source": [
        "!pip install sqlalchemy"
      ]
    },
    {
      "cell_type": "code",
      "source": [
        "from sqlalchemy import create_engine, Column, Integer, String, Float, ForeignKey, DateTime, inspect, text\n",
        "from sqlalchemy.ext.declarative import declarative_base\n",
        "from sqlalchemy.orm import relationship, sessionmaker\n",
        "from datetime import datetime"
      ],
      "metadata": {
        "id": "uJrUx77FKbD5"
      },
      "execution_count": 38,
      "outputs": []
    },
    {
      "cell_type": "code",
      "source": [
        "#Create tables(ORM approach)\n",
        "from sqlalchemy import create_engine, Column, Integer, String, Float, ForeignKey\n",
        "from sqlalchemy.ext.declarative import declarative_base\n",
        "from sqlalchemy.orm import relationship\n",
        "from sqlalchemy.exc import IntegrityError\n",
        "\n",
        "# Define the Base class using declarative_base\n",
        "Base = declarative_base()\n",
        "\n",
        "# Define the User model\n",
        "class User(Base):\n",
        "    __tablename__ = 'users'\n",
        "\n",
        "    id = Column(Integer, primary_key=True)\n",
        "    username = Column(String(50), unique=True, nullable=False)\n",
        "    email = Column(String(100), unique=True, nullable=False)\n",
        "\n",
        "    orders = relationship('Order', back_populates='user')\n",
        "\n",
        "    def __repr__(self):\n",
        "        return f\"<User(username='{self.username}', email='{self.email}')>\"\n",
        "\n",
        "# Define the Product model\n",
        "class Product(Base):\n",
        "    __tablename__ = 'Products'  # Table name changed to 'Products'\n",
        "\n",
        "    id = Column(Integer, primary_key=True)\n",
        "    name = Column(String(100), nullable=False)\n",
        "    price = Column(Float, nullable=False)\n",
        "\n",
        "    order_items = relationship('OrderItem', back_populates='product')\n",
        "\n",
        "    def __repr__(self):\n",
        "        return f\"<Product(name='{self.name}', price={self.price})>\"\n",
        "\n",
        "# Define the Order model\n",
        "class Order(Base):\n",
        "    __tablename__ = 'orders'\n",
        "\n",
        "    id = Column(Integer, primary_key=True)\n",
        "    user_id = Column(Integer, ForeignKey('users.id'), nullable=False)\n",
        "\n",
        "    user = relationship('User', back_populates='orders')\n",
        "    order_items = relationship('OrderItem', back_populates='order')\n",
        "\n",
        "    def __repr__(self):\n",
        "        return f\"<Order(id={self.id})>\"\n",
        "\n",
        "# Define the OrderItem model\n",
        "class OrderItem(Base):\n",
        "    __tablename__ = 'Order_items'  # Table name changed to 'Order_items'\n",
        "\n",
        "    id = Column(Integer, primary_key=True)\n",
        "    order_id = Column(Integer, ForeignKey('orders.id'), nullable=False)\n",
        "    product_id = Column(Integer, ForeignKey('Products.id'), nullable=False)\n",
        "    quantity = Column(Integer, nullable=False)\n",
        "\n",
        "    order = relationship('Order', back_populates='order_items')\n",
        "    product = relationship('Product', back_populates='order_items')\n",
        "\n",
        "    def __repr__(self):\n",
        "        return f\"<OrderItem(order_id={self.order_id}, product_id={self.product_id}, quantity={self.quantity})>\""
      ],
      "metadata": {
        "colab": {
          "base_uri": "https://localhost:8080/"
        },
        "id": "S3dwmN5xNTT7",
        "outputId": "7f86a570-f9f4-451a-be5d-00e759e722fa"
      },
      "execution_count": 80,
      "outputs": [
        {
          "output_type": "stream",
          "name": "stderr",
          "text": [
            "<ipython-input-80-032b6c8baac9>:8: MovedIn20Warning: The ``declarative_base()`` function is now available as sqlalchemy.orm.declarative_base(). (deprecated since: 2.0) (Background on SQLAlchemy 2.0 at: https://sqlalche.me/e/b8d9)\n",
            "  Base = declarative_base()\n"
          ]
        }
      ]
    },
    {
      "cell_type": "code",
      "source": [
        "engine = create_engine('sqlite:///ecommerce_5.db', echo=True)"
      ],
      "metadata": {
        "id": "1vY5KfdaKg-l"
      },
      "execution_count": 83,
      "outputs": []
    },
    {
      "cell_type": "code",
      "source": [
        " with engine.connect() as connection:\n",
        "      result = connection.execute(text(\"SELECT 1\"))\n",
        "      print(result.scalar())"
      ],
      "metadata": {
        "colab": {
          "base_uri": "https://localhost:8080/"
        },
        "id": "yh4s_qepKj2y",
        "outputId": "4dce1298-d9d0-4d0d-a413-9d3d5d65a589"
      },
      "execution_count": 84,
      "outputs": [
        {
          "output_type": "stream",
          "name": "stdout",
          "text": [
            "2025-05-13 12:07:49,959 INFO sqlalchemy.engine.Engine BEGIN (implicit)\n"
          ]
        },
        {
          "output_type": "stream",
          "name": "stderr",
          "text": [
            "INFO:sqlalchemy.engine.Engine:BEGIN (implicit)\n"
          ]
        },
        {
          "output_type": "stream",
          "name": "stdout",
          "text": [
            "2025-05-13 12:07:49,961 INFO sqlalchemy.engine.Engine SELECT 1\n"
          ]
        },
        {
          "output_type": "stream",
          "name": "stderr",
          "text": [
            "INFO:sqlalchemy.engine.Engine:SELECT 1\n"
          ]
        },
        {
          "output_type": "stream",
          "name": "stdout",
          "text": [
            "2025-05-13 12:07:49,963 INFO sqlalchemy.engine.Engine [generated in 0.00361s] ()\n"
          ]
        },
        {
          "output_type": "stream",
          "name": "stderr",
          "text": [
            "INFO:sqlalchemy.engine.Engine:[generated in 0.00361s] ()\n"
          ]
        },
        {
          "output_type": "stream",
          "name": "stdout",
          "text": [
            "1\n",
            "2025-05-13 12:07:49,966 INFO sqlalchemy.engine.Engine ROLLBACK\n"
          ]
        },
        {
          "output_type": "stream",
          "name": "stderr",
          "text": [
            "INFO:sqlalchemy.engine.Engine:ROLLBACK\n"
          ]
        }
      ]
    },
    {
      "cell_type": "code",
      "source": [
        "# Create all tables defined in the Base metadata\n",
        "Base.metadata.create_all(engine)"
      ],
      "metadata": {
        "colab": {
          "base_uri": "https://localhost:8080/"
        },
        "id": "5dQE3j9pKqon",
        "outputId": "c08164de-c4da-4989-a417-d563672682e5"
      },
      "execution_count": 93,
      "outputs": [
        {
          "output_type": "stream",
          "name": "stdout",
          "text": [
            "2025-05-13 12:13:18,178 INFO sqlalchemy.engine.Engine BEGIN (implicit)\n"
          ]
        },
        {
          "output_type": "stream",
          "name": "stderr",
          "text": [
            "INFO:sqlalchemy.engine.Engine:BEGIN (implicit)\n"
          ]
        },
        {
          "output_type": "stream",
          "name": "stdout",
          "text": [
            "2025-05-13 12:13:18,181 INFO sqlalchemy.engine.Engine PRAGMA main.table_info(\"users\")\n"
          ]
        },
        {
          "output_type": "stream",
          "name": "stderr",
          "text": [
            "INFO:sqlalchemy.engine.Engine:PRAGMA main.table_info(\"users\")\n"
          ]
        },
        {
          "output_type": "stream",
          "name": "stdout",
          "text": [
            "2025-05-13 12:13:18,183 INFO sqlalchemy.engine.Engine [raw sql] ()\n"
          ]
        },
        {
          "output_type": "stream",
          "name": "stderr",
          "text": [
            "INFO:sqlalchemy.engine.Engine:[raw sql] ()\n"
          ]
        },
        {
          "output_type": "stream",
          "name": "stdout",
          "text": [
            "2025-05-13 12:13:18,187 INFO sqlalchemy.engine.Engine PRAGMA main.table_info(\"Products\")\n"
          ]
        },
        {
          "output_type": "stream",
          "name": "stderr",
          "text": [
            "INFO:sqlalchemy.engine.Engine:PRAGMA main.table_info(\"Products\")\n"
          ]
        },
        {
          "output_type": "stream",
          "name": "stdout",
          "text": [
            "2025-05-13 12:13:18,190 INFO sqlalchemy.engine.Engine [raw sql] ()\n"
          ]
        },
        {
          "output_type": "stream",
          "name": "stderr",
          "text": [
            "INFO:sqlalchemy.engine.Engine:[raw sql] ()\n"
          ]
        },
        {
          "output_type": "stream",
          "name": "stdout",
          "text": [
            "2025-05-13 12:13:18,192 INFO sqlalchemy.engine.Engine PRAGMA main.table_info(\"orders\")\n"
          ]
        },
        {
          "output_type": "stream",
          "name": "stderr",
          "text": [
            "INFO:sqlalchemy.engine.Engine:PRAGMA main.table_info(\"orders\")\n"
          ]
        },
        {
          "output_type": "stream",
          "name": "stdout",
          "text": [
            "2025-05-13 12:13:18,194 INFO sqlalchemy.engine.Engine [raw sql] ()\n"
          ]
        },
        {
          "output_type": "stream",
          "name": "stderr",
          "text": [
            "INFO:sqlalchemy.engine.Engine:[raw sql] ()\n"
          ]
        },
        {
          "output_type": "stream",
          "name": "stdout",
          "text": [
            "2025-05-13 12:13:18,196 INFO sqlalchemy.engine.Engine PRAGMA main.table_info(\"Order_items\")\n"
          ]
        },
        {
          "output_type": "stream",
          "name": "stderr",
          "text": [
            "INFO:sqlalchemy.engine.Engine:PRAGMA main.table_info(\"Order_items\")\n"
          ]
        },
        {
          "output_type": "stream",
          "name": "stdout",
          "text": [
            "2025-05-13 12:13:18,198 INFO sqlalchemy.engine.Engine [raw sql] ()\n"
          ]
        },
        {
          "output_type": "stream",
          "name": "stderr",
          "text": [
            "INFO:sqlalchemy.engine.Engine:[raw sql] ()\n"
          ]
        },
        {
          "output_type": "stream",
          "name": "stdout",
          "text": [
            "2025-05-13 12:13:18,200 INFO sqlalchemy.engine.Engine COMMIT\n"
          ]
        },
        {
          "output_type": "stream",
          "name": "stderr",
          "text": [
            "INFO:sqlalchemy.engine.Engine:COMMIT\n"
          ]
        }
      ]
    },
    {
      "cell_type": "code",
      "source": [
        "# Use SQLAlchemy's inspect function to get table information\n",
        "inspector = inspect(engine)\n",
        "\n",
        "# Get a list of table names in the database\n",
        "tables = inspector.get_table_names()\n",
        "\n",
        "# Print the list of tables\n",
        "print(\"Tables in the database:\")\n",
        "for table in tables:\n",
        "    print(table)"
      ],
      "metadata": {
        "colab": {
          "base_uri": "https://localhost:8080/"
        },
        "id": "pJqjEzS6SB5u",
        "outputId": "659e472a-6b86-45fb-f338-3db2e0e4aac3"
      },
      "execution_count": 94,
      "outputs": [
        {
          "output_type": "stream",
          "name": "stdout",
          "text": [
            "2025-05-13 12:13:25,086 INFO sqlalchemy.engine.Engine BEGIN (implicit)\n"
          ]
        },
        {
          "output_type": "stream",
          "name": "stderr",
          "text": [
            "INFO:sqlalchemy.engine.Engine:BEGIN (implicit)\n"
          ]
        },
        {
          "output_type": "stream",
          "name": "stdout",
          "text": [
            "2025-05-13 12:13:25,088 INFO sqlalchemy.engine.Engine SELECT name FROM sqlite_master WHERE type='table' AND name NOT LIKE 'sqlite~_%' ESCAPE '~' ORDER BY name\n"
          ]
        },
        {
          "output_type": "stream",
          "name": "stderr",
          "text": [
            "INFO:sqlalchemy.engine.Engine:SELECT name FROM sqlite_master WHERE type='table' AND name NOT LIKE 'sqlite~_%' ESCAPE '~' ORDER BY name\n"
          ]
        },
        {
          "output_type": "stream",
          "name": "stdout",
          "text": [
            "2025-05-13 12:13:25,090 INFO sqlalchemy.engine.Engine [raw sql] ()\n"
          ]
        },
        {
          "output_type": "stream",
          "name": "stderr",
          "text": [
            "INFO:sqlalchemy.engine.Engine:[raw sql] ()\n"
          ]
        },
        {
          "output_type": "stream",
          "name": "stdout",
          "text": [
            "2025-05-13 12:13:25,093 INFO sqlalchemy.engine.Engine ROLLBACK\n"
          ]
        },
        {
          "output_type": "stream",
          "name": "stderr",
          "text": [
            "INFO:sqlalchemy.engine.Engine:ROLLBACK\n"
          ]
        },
        {
          "output_type": "stream",
          "name": "stdout",
          "text": [
            "Tables in the database:\n",
            "Order_items\n",
            "Products\n",
            "orders\n",
            "users\n"
          ]
        }
      ]
    },
    {
      "cell_type": "code",
      "source": [
        "# Create a session to perform database operations\n",
        "Session = sessionmaker(bind=engine)\n",
        "session = Session()"
      ],
      "metadata": {
        "id": "sZQ7_-JyMosk"
      },
      "execution_count": 95,
      "outputs": []
    },
    {
      "cell_type": "code",
      "source": [
        "#CRUD operations\n",
        "#Can be improved with Transaction errors, for example by Try :... except Exception as e:"
      ],
      "metadata": {
        "id": "LAnJqq1JqIsx"
      },
      "execution_count": 96,
      "outputs": []
    },
    {
      "cell_type": "code",
      "source": [
        "#User Table CRUD\n",
        "\n",
        "# Create\n",
        "def add_user(username, email):\n",
        "  try:\n",
        "    new_user = User(username=username, email=email)\n",
        "    session.add(new_user)\n",
        "    session.commit()\n",
        "    return new_user.id\n",
        "  except IntegrityError as e:\n",
        "    session.rollback()\n",
        "    print(f\"Error: {e}\")\n",
        "\n",
        "\n",
        "# Read\n",
        "def get_user(user_id):\n",
        "    return session.query(User).filter(User.id == user_id).first()\n",
        "\n",
        "# Update\n",
        "def update_user(user_id, username=None, email=None):\n",
        "    user = session.query(User).filter(User.id == user_id).first()\n",
        "    if user:\n",
        "        if username:\n",
        "            user.username = username\n",
        "        if email:\n",
        "            user.email = email\n",
        "        session.commit()\n",
        "\n",
        "# Delete\n",
        "def delete_user(user_id):\n",
        "    user = session.query(User).filter(User.id == user_id).first()\n",
        "    if user:\n",
        "        session.delete(user)\n",
        "        session.commit()"
      ],
      "metadata": {
        "id": "RapLdBN2okbO"
      },
      "execution_count": 97,
      "outputs": []
    },
    {
      "cell_type": "code",
      "source": [
        "#Product Table CRUD\n",
        "\n",
        "# Create\n",
        "def add_product(name, price):\n",
        "    new_product = Product(name=name, price=price)\n",
        "    session.add(new_product)\n",
        "    session.commit()\n",
        "    return new_product.id\n",
        "\n",
        "# Read\n",
        "def get_product(product_id):\n",
        "    return session.query(Product).filter(Product.id == product_id).first()\n",
        "\n",
        "# Update\n",
        "def update_product(product_id, name=None, price=None):\n",
        "    product = session.query(Product).filter(Product.id == product_id).first()\n",
        "    if product:\n",
        "        if name:\n",
        "            product.name = name\n",
        "        if price is not None:  # Allow price to be set to 0\n",
        "            product.price = price\n",
        "        session.commit()\n",
        "\n",
        "# Delete\n",
        "def delete_product(product_id):\n",
        "    product = session.query(Product).filter(Product.id == product_id).first()\n",
        "    if product:\n",
        "        for item in product.order_items:\n",
        "            session.delete(item)\n",
        "        session.delete(product)\n",
        "        session.commit()"
      ],
      "metadata": {
        "id": "qnclnREoqQGc"
      },
      "execution_count": 98,
      "outputs": []
    },
    {
      "cell_type": "code",
      "source": [
        "#Order Table CRUD\n",
        "\n",
        "# Create\n",
        "def add_order(user_id, order_items=None):\n",
        "    new_order = Order(user_id=user_id)\n",
        "    session.add(new_order)\n",
        "    session.commit()\n",
        "    if order_items:\n",
        "        for item in order_items:\n",
        "            add_order_item(new_order.id, item['product_id'], item['quantity'])\n",
        "    return new_order.id\n",
        "\n",
        "# Read\n",
        "def get_order(order_id):\n",
        "    return session.query(Order).filter(Order.id == order_id).first()\n",
        "\n",
        "# Update\n",
        "def update_order(order_id, user_id=None, order_items=None):\n",
        "    order = session.query(Order).filter(Order.id == order_id).first()\n",
        "    if order:\n",
        "        if user_id:\n",
        "            order.user_id = user_id\n",
        "        if order_items is not None:\n",
        "            for item in order_items:\n",
        "                update_order_item(item['id'], item['product_id'], item['quantity'])\n",
        "        session.commit()\n",
        "\n",
        "# Delete\n",
        "def delete_order(order_id):\n",
        "    order = session.query(Order).filter(Order.id == order_id).first()\n",
        "    if order:\n",
        "        for item in order.order_items:\n",
        "            session.delete(item)\n",
        "        session.delete(order)\n",
        "        session.commit()"
      ],
      "metadata": {
        "id": "W6eLzWB4qY7-"
      },
      "execution_count": 99,
      "outputs": []
    },
    {
      "cell_type": "code",
      "source": [
        "#OrderItem Table CRUD\n",
        "\n",
        "# Create\n",
        "def add_order_item(order_id, product_id, quantity):\n",
        "    new_order_item = OrderItem(order_id=order_id, product_id=product_id, quantity=quantity)\n",
        "    session.add(new_order_item)\n",
        "    session.commit()\n",
        "    return new_order_item.id\n",
        "\n",
        "# Read\n",
        "def get_order_item(order_item_id):\n",
        "    return session.query(OrderItem).filter(OrderItem.id == order_item_id).first()\n",
        "\n",
        "# Update\n",
        "def update_order_item(order_item_id, product_id=None, quantity=None):\n",
        "    order_item = session.query(OrderItem).filter(OrderItem.id == order_item_id).first()\n",
        "    if order_item:\n",
        "        if product_id:\n",
        "            order_item.product_id = product_id\n",
        "        if quantity is not None:  # Allow quantity to be set to 0\n",
        "            order_item.quantity = quantity\n",
        "        session.commit()\n",
        "\n",
        "# Delete\n",
        "def delete_order_item(order_item_id):\n",
        "    order_item = session.query(OrderItem).filter(OrderItem.id == order_item_id).first()\n",
        "    if order_item:\n",
        "        session.delete(order_item)\n",
        "        session.commit()"
      ],
      "metadata": {
        "id": "05sc8wjPqeIq"
      },
      "execution_count": 100,
      "outputs": []
    },
    {
      "cell_type": "code",
      "source": [
        "def add_sample_data():\n",
        "    # Adding users\n",
        "    user_data = [\n",
        "        (\"Alice\", \"alice@example.com\"),\n",
        "        (\"Bob\", \"bob@example.com\"),\n",
        "        (\"Charlie\", \"charlie@example.com\"),\n",
        "        (\"David\", \"david@example.com\"),\n",
        "        (\"Eve\", \"eve@example.com\"),\n",
        "        (\"Frank\", \"frank@example.com\"),\n",
        "        (\"Grace\", \"grace@example.com\"),\n",
        "        (\"Heidi\", \"heidi@example.com\"),\n",
        "        (\"Ivan\", \"ivan@example.com\"),\n",
        "        (\"Judy\", \"judy@example.com\")\n",
        "    ]\n",
        "    for username, email in user_data:\n",
        "        add_user(username, email)\n",
        "\n",
        "    # Adding products\n",
        "    product_data = [\n",
        "        (\"Laptop\", 1000),\n",
        "        (\"Smartphone\", 500),\n",
        "        (\"Tablet\", 300),\n",
        "        (\"Monitor\", 150),\n",
        "        (\"Keyboard\", 50),\n",
        "        (\"Mouse\", 25),\n",
        "        (\"Printer\", 200),\n",
        "        (\"Router\", 75),\n",
        "        (\"Webcam\", 60),\n",
        "        (\"Headphones\", 80)\n",
        "    ]\n",
        "    for name, price in product_data:\n",
        "        add_product(name, price)\n",
        "\n",
        "    # Adding orders\n",
        "    for i in range(1, 11):\n",
        "        # Here we assume that each user has one order for simplicity\n",
        "        add_order(user_id=i)\n",
        "\n",
        "    # Adding order_items\n",
        "    order_item_data = [\n",
        "        (1, 1, 2),\n",
        "        (1, 2, 1),\n",
        "        (2, 3, 1),\n",
        "        (2, 4, 2),\n",
        "        (3, 5, 3),\n",
        "        (3, 6, 1),\n",
        "        (4, 7, 2),\n",
        "        (4, 8, 1),\n",
        "        (5, 9, 1),\n",
        "        (5, 10, 2),\n",
        "        (6, 1, 1),\n",
        "        (6, 2, 2),\n",
        "        (7, 3, 1),\n",
        "        (7, 4, 1),\n",
        "        (8, 5, 2),\n",
        "        (8, 6, 1),\n",
        "        (9, 7, 3),\n",
        "        (9, 8, 1),\n",
        "        (10, 9, 1),\n",
        "        (10, 10, 1)\n",
        "    ]\n",
        "    for order_id, product_id, quantity in order_item_data:\n",
        "        add_order_item(order_id, product_id, quantity)\n",
        "\n",
        "# Make sure to call the function to execute it\n",
        "add_sample_data()"
      ],
      "metadata": {
        "colab": {
          "base_uri": "https://localhost:8080/"
        },
        "id": "6h8xZBJcNp3V",
        "outputId": "9c27f5e8-3952-46ca-b15e-6b0e4d6f6cae"
      },
      "execution_count": 101,
      "outputs": [
        {
          "output_type": "stream",
          "name": "stdout",
          "text": [
            "2025-05-13 12:13:37,329 INFO sqlalchemy.engine.Engine BEGIN (implicit)\n"
          ]
        },
        {
          "output_type": "stream",
          "name": "stderr",
          "text": [
            "INFO:sqlalchemy.engine.Engine:BEGIN (implicit)\n"
          ]
        },
        {
          "output_type": "stream",
          "name": "stdout",
          "text": [
            "2025-05-13 12:13:37,333 INFO sqlalchemy.engine.Engine INSERT INTO users (username, email) VALUES (?, ?)\n"
          ]
        },
        {
          "output_type": "stream",
          "name": "stderr",
          "text": [
            "INFO:sqlalchemy.engine.Engine:INSERT INTO users (username, email) VALUES (?, ?)\n"
          ]
        },
        {
          "output_type": "stream",
          "name": "stdout",
          "text": [
            "2025-05-13 12:13:37,336 INFO sqlalchemy.engine.Engine [generated in 0.00268s] ('Alice', 'alice@example.com')\n"
          ]
        },
        {
          "output_type": "stream",
          "name": "stderr",
          "text": [
            "INFO:sqlalchemy.engine.Engine:[generated in 0.00268s] ('Alice', 'alice@example.com')\n"
          ]
        },
        {
          "output_type": "stream",
          "name": "stdout",
          "text": [
            "2025-05-13 12:13:37,339 INFO sqlalchemy.engine.Engine COMMIT\n"
          ]
        },
        {
          "output_type": "stream",
          "name": "stderr",
          "text": [
            "INFO:sqlalchemy.engine.Engine:COMMIT\n"
          ]
        },
        {
          "output_type": "stream",
          "name": "stdout",
          "text": [
            "2025-05-13 12:13:37,350 INFO sqlalchemy.engine.Engine BEGIN (implicit)\n"
          ]
        },
        {
          "output_type": "stream",
          "name": "stderr",
          "text": [
            "INFO:sqlalchemy.engine.Engine:BEGIN (implicit)\n"
          ]
        },
        {
          "output_type": "stream",
          "name": "stdout",
          "text": [
            "2025-05-13 12:13:37,354 INFO sqlalchemy.engine.Engine SELECT users.id AS users_id, users.username AS users_username, users.email AS users_email \n",
            "FROM users \n",
            "WHERE users.id = ?\n"
          ]
        },
        {
          "output_type": "stream",
          "name": "stderr",
          "text": [
            "INFO:sqlalchemy.engine.Engine:SELECT users.id AS users_id, users.username AS users_username, users.email AS users_email \n",
            "FROM users \n",
            "WHERE users.id = ?\n"
          ]
        },
        {
          "output_type": "stream",
          "name": "stdout",
          "text": [
            "2025-05-13 12:13:37,356 INFO sqlalchemy.engine.Engine [generated in 0.00208s] (1,)\n"
          ]
        },
        {
          "output_type": "stream",
          "name": "stderr",
          "text": [
            "INFO:sqlalchemy.engine.Engine:[generated in 0.00208s] (1,)\n"
          ]
        },
        {
          "output_type": "stream",
          "name": "stdout",
          "text": [
            "2025-05-13 12:13:37,359 INFO sqlalchemy.engine.Engine INSERT INTO users (username, email) VALUES (?, ?)\n"
          ]
        },
        {
          "output_type": "stream",
          "name": "stderr",
          "text": [
            "INFO:sqlalchemy.engine.Engine:INSERT INTO users (username, email) VALUES (?, ?)\n"
          ]
        },
        {
          "output_type": "stream",
          "name": "stdout",
          "text": [
            "2025-05-13 12:13:37,361 INFO sqlalchemy.engine.Engine [cached since 0.0277s ago] ('Bob', 'bob@example.com')\n"
          ]
        },
        {
          "output_type": "stream",
          "name": "stderr",
          "text": [
            "INFO:sqlalchemy.engine.Engine:[cached since 0.0277s ago] ('Bob', 'bob@example.com')\n"
          ]
        },
        {
          "output_type": "stream",
          "name": "stdout",
          "text": [
            "2025-05-13 12:13:37,363 INFO sqlalchemy.engine.Engine COMMIT\n"
          ]
        },
        {
          "output_type": "stream",
          "name": "stderr",
          "text": [
            "INFO:sqlalchemy.engine.Engine:COMMIT\n"
          ]
        },
        {
          "output_type": "stream",
          "name": "stdout",
          "text": [
            "2025-05-13 12:13:37,374 INFO sqlalchemy.engine.Engine BEGIN (implicit)\n"
          ]
        },
        {
          "output_type": "stream",
          "name": "stderr",
          "text": [
            "INFO:sqlalchemy.engine.Engine:BEGIN (implicit)\n"
          ]
        },
        {
          "output_type": "stream",
          "name": "stdout",
          "text": [
            "2025-05-13 12:13:37,376 INFO sqlalchemy.engine.Engine SELECT users.id AS users_id, users.username AS users_username, users.email AS users_email \n",
            "FROM users \n",
            "WHERE users.id = ?\n"
          ]
        },
        {
          "output_type": "stream",
          "name": "stderr",
          "text": [
            "INFO:sqlalchemy.engine.Engine:SELECT users.id AS users_id, users.username AS users_username, users.email AS users_email \n",
            "FROM users \n",
            "WHERE users.id = ?\n"
          ]
        },
        {
          "output_type": "stream",
          "name": "stdout",
          "text": [
            "2025-05-13 12:13:37,378 INFO sqlalchemy.engine.Engine [cached since 0.02441s ago] (2,)\n"
          ]
        },
        {
          "output_type": "stream",
          "name": "stderr",
          "text": [
            "INFO:sqlalchemy.engine.Engine:[cached since 0.02441s ago] (2,)\n"
          ]
        },
        {
          "output_type": "stream",
          "name": "stdout",
          "text": [
            "2025-05-13 12:13:37,381 INFO sqlalchemy.engine.Engine INSERT INTO users (username, email) VALUES (?, ?)\n"
          ]
        },
        {
          "output_type": "stream",
          "name": "stderr",
          "text": [
            "INFO:sqlalchemy.engine.Engine:INSERT INTO users (username, email) VALUES (?, ?)\n"
          ]
        },
        {
          "output_type": "stream",
          "name": "stdout",
          "text": [
            "2025-05-13 12:13:37,382 INFO sqlalchemy.engine.Engine [cached since 0.04901s ago] ('Charlie', 'charlie@example.com')\n"
          ]
        },
        {
          "output_type": "stream",
          "name": "stderr",
          "text": [
            "INFO:sqlalchemy.engine.Engine:[cached since 0.04901s ago] ('Charlie', 'charlie@example.com')\n"
          ]
        },
        {
          "output_type": "stream",
          "name": "stdout",
          "text": [
            "2025-05-13 12:13:37,384 INFO sqlalchemy.engine.Engine COMMIT\n"
          ]
        },
        {
          "output_type": "stream",
          "name": "stderr",
          "text": [
            "INFO:sqlalchemy.engine.Engine:COMMIT\n"
          ]
        },
        {
          "output_type": "stream",
          "name": "stdout",
          "text": [
            "2025-05-13 12:13:37,395 INFO sqlalchemy.engine.Engine BEGIN (implicit)\n"
          ]
        },
        {
          "output_type": "stream",
          "name": "stderr",
          "text": [
            "INFO:sqlalchemy.engine.Engine:BEGIN (implicit)\n"
          ]
        },
        {
          "output_type": "stream",
          "name": "stdout",
          "text": [
            "2025-05-13 12:13:37,397 INFO sqlalchemy.engine.Engine SELECT users.id AS users_id, users.username AS users_username, users.email AS users_email \n",
            "FROM users \n",
            "WHERE users.id = ?\n"
          ]
        },
        {
          "output_type": "stream",
          "name": "stderr",
          "text": [
            "INFO:sqlalchemy.engine.Engine:SELECT users.id AS users_id, users.username AS users_username, users.email AS users_email \n",
            "FROM users \n",
            "WHERE users.id = ?\n"
          ]
        },
        {
          "output_type": "stream",
          "name": "stdout",
          "text": [
            "2025-05-13 12:13:37,398 INFO sqlalchemy.engine.Engine [cached since 0.04479s ago] (3,)\n"
          ]
        },
        {
          "output_type": "stream",
          "name": "stderr",
          "text": [
            "INFO:sqlalchemy.engine.Engine:[cached since 0.04479s ago] (3,)\n"
          ]
        },
        {
          "output_type": "stream",
          "name": "stdout",
          "text": [
            "2025-05-13 12:13:37,400 INFO sqlalchemy.engine.Engine INSERT INTO users (username, email) VALUES (?, ?)\n"
          ]
        },
        {
          "output_type": "stream",
          "name": "stderr",
          "text": [
            "INFO:sqlalchemy.engine.Engine:INSERT INTO users (username, email) VALUES (?, ?)\n"
          ]
        },
        {
          "output_type": "stream",
          "name": "stdout",
          "text": [
            "2025-05-13 12:13:37,402 INFO sqlalchemy.engine.Engine [cached since 0.06844s ago] ('David', 'david@example.com')\n"
          ]
        },
        {
          "output_type": "stream",
          "name": "stderr",
          "text": [
            "INFO:sqlalchemy.engine.Engine:[cached since 0.06844s ago] ('David', 'david@example.com')\n"
          ]
        },
        {
          "output_type": "stream",
          "name": "stdout",
          "text": [
            "2025-05-13 12:13:37,404 INFO sqlalchemy.engine.Engine COMMIT\n"
          ]
        },
        {
          "output_type": "stream",
          "name": "stderr",
          "text": [
            "INFO:sqlalchemy.engine.Engine:COMMIT\n"
          ]
        },
        {
          "output_type": "stream",
          "name": "stdout",
          "text": [
            "2025-05-13 12:13:37,417 INFO sqlalchemy.engine.Engine BEGIN (implicit)\n"
          ]
        },
        {
          "output_type": "stream",
          "name": "stderr",
          "text": [
            "INFO:sqlalchemy.engine.Engine:BEGIN (implicit)\n"
          ]
        },
        {
          "output_type": "stream",
          "name": "stdout",
          "text": [
            "2025-05-13 12:13:37,420 INFO sqlalchemy.engine.Engine SELECT users.id AS users_id, users.username AS users_username, users.email AS users_email \n",
            "FROM users \n",
            "WHERE users.id = ?\n"
          ]
        },
        {
          "output_type": "stream",
          "name": "stderr",
          "text": [
            "INFO:sqlalchemy.engine.Engine:SELECT users.id AS users_id, users.username AS users_username, users.email AS users_email \n",
            "FROM users \n",
            "WHERE users.id = ?\n"
          ]
        },
        {
          "output_type": "stream",
          "name": "stdout",
          "text": [
            "2025-05-13 12:13:37,422 INFO sqlalchemy.engine.Engine [cached since 0.06809s ago] (4,)\n"
          ]
        },
        {
          "output_type": "stream",
          "name": "stderr",
          "text": [
            "INFO:sqlalchemy.engine.Engine:[cached since 0.06809s ago] (4,)\n"
          ]
        },
        {
          "output_type": "stream",
          "name": "stdout",
          "text": [
            "2025-05-13 12:13:37,425 INFO sqlalchemy.engine.Engine INSERT INTO users (username, email) VALUES (?, ?)\n"
          ]
        },
        {
          "output_type": "stream",
          "name": "stderr",
          "text": [
            "INFO:sqlalchemy.engine.Engine:INSERT INTO users (username, email) VALUES (?, ?)\n"
          ]
        },
        {
          "output_type": "stream",
          "name": "stdout",
          "text": [
            "2025-05-13 12:13:37,428 INFO sqlalchemy.engine.Engine [cached since 0.09476s ago] ('Eve', 'eve@example.com')\n"
          ]
        },
        {
          "output_type": "stream",
          "name": "stderr",
          "text": [
            "INFO:sqlalchemy.engine.Engine:[cached since 0.09476s ago] ('Eve', 'eve@example.com')\n"
          ]
        },
        {
          "output_type": "stream",
          "name": "stdout",
          "text": [
            "2025-05-13 12:13:37,431 INFO sqlalchemy.engine.Engine COMMIT\n"
          ]
        },
        {
          "output_type": "stream",
          "name": "stderr",
          "text": [
            "INFO:sqlalchemy.engine.Engine:COMMIT\n"
          ]
        },
        {
          "output_type": "stream",
          "name": "stdout",
          "text": [
            "2025-05-13 12:13:37,441 INFO sqlalchemy.engine.Engine BEGIN (implicit)\n"
          ]
        },
        {
          "output_type": "stream",
          "name": "stderr",
          "text": [
            "INFO:sqlalchemy.engine.Engine:BEGIN (implicit)\n"
          ]
        },
        {
          "output_type": "stream",
          "name": "stdout",
          "text": [
            "2025-05-13 12:13:37,444 INFO sqlalchemy.engine.Engine SELECT users.id AS users_id, users.username AS users_username, users.email AS users_email \n",
            "FROM users \n",
            "WHERE users.id = ?\n"
          ]
        },
        {
          "output_type": "stream",
          "name": "stderr",
          "text": [
            "INFO:sqlalchemy.engine.Engine:SELECT users.id AS users_id, users.username AS users_username, users.email AS users_email \n",
            "FROM users \n",
            "WHERE users.id = ?\n"
          ]
        },
        {
          "output_type": "stream",
          "name": "stdout",
          "text": [
            "2025-05-13 12:13:37,445 INFO sqlalchemy.engine.Engine [cached since 0.09158s ago] (5,)\n"
          ]
        },
        {
          "output_type": "stream",
          "name": "stderr",
          "text": [
            "INFO:sqlalchemy.engine.Engine:[cached since 0.09158s ago] (5,)\n"
          ]
        },
        {
          "output_type": "stream",
          "name": "stdout",
          "text": [
            "2025-05-13 12:13:37,448 INFO sqlalchemy.engine.Engine INSERT INTO users (username, email) VALUES (?, ?)\n"
          ]
        },
        {
          "output_type": "stream",
          "name": "stderr",
          "text": [
            "INFO:sqlalchemy.engine.Engine:INSERT INTO users (username, email) VALUES (?, ?)\n"
          ]
        },
        {
          "output_type": "stream",
          "name": "stdout",
          "text": [
            "2025-05-13 12:13:37,451 INFO sqlalchemy.engine.Engine [cached since 0.1177s ago] ('Frank', 'frank@example.com')\n"
          ]
        },
        {
          "output_type": "stream",
          "name": "stderr",
          "text": [
            "INFO:sqlalchemy.engine.Engine:[cached since 0.1177s ago] ('Frank', 'frank@example.com')\n"
          ]
        },
        {
          "output_type": "stream",
          "name": "stdout",
          "text": [
            "2025-05-13 12:13:37,454 INFO sqlalchemy.engine.Engine COMMIT\n"
          ]
        },
        {
          "output_type": "stream",
          "name": "stderr",
          "text": [
            "INFO:sqlalchemy.engine.Engine:COMMIT\n"
          ]
        },
        {
          "output_type": "stream",
          "name": "stdout",
          "text": [
            "2025-05-13 12:13:37,463 INFO sqlalchemy.engine.Engine BEGIN (implicit)\n"
          ]
        },
        {
          "output_type": "stream",
          "name": "stderr",
          "text": [
            "INFO:sqlalchemy.engine.Engine:BEGIN (implicit)\n"
          ]
        },
        {
          "output_type": "stream",
          "name": "stdout",
          "text": [
            "2025-05-13 12:13:37,465 INFO sqlalchemy.engine.Engine SELECT users.id AS users_id, users.username AS users_username, users.email AS users_email \n",
            "FROM users \n",
            "WHERE users.id = ?\n"
          ]
        },
        {
          "output_type": "stream",
          "name": "stderr",
          "text": [
            "INFO:sqlalchemy.engine.Engine:SELECT users.id AS users_id, users.username AS users_username, users.email AS users_email \n",
            "FROM users \n",
            "WHERE users.id = ?\n"
          ]
        },
        {
          "output_type": "stream",
          "name": "stdout",
          "text": [
            "2025-05-13 12:13:37,468 INFO sqlalchemy.engine.Engine [cached since 0.114s ago] (6,)\n"
          ]
        },
        {
          "output_type": "stream",
          "name": "stderr",
          "text": [
            "INFO:sqlalchemy.engine.Engine:[cached since 0.114s ago] (6,)\n"
          ]
        },
        {
          "output_type": "stream",
          "name": "stdout",
          "text": [
            "2025-05-13 12:13:37,470 INFO sqlalchemy.engine.Engine INSERT INTO users (username, email) VALUES (?, ?)\n"
          ]
        },
        {
          "output_type": "stream",
          "name": "stderr",
          "text": [
            "INFO:sqlalchemy.engine.Engine:INSERT INTO users (username, email) VALUES (?, ?)\n"
          ]
        },
        {
          "output_type": "stream",
          "name": "stdout",
          "text": [
            "2025-05-13 12:13:37,472 INFO sqlalchemy.engine.Engine [cached since 0.1386s ago] ('Grace', 'grace@example.com')\n"
          ]
        },
        {
          "output_type": "stream",
          "name": "stderr",
          "text": [
            "INFO:sqlalchemy.engine.Engine:[cached since 0.1386s ago] ('Grace', 'grace@example.com')\n"
          ]
        },
        {
          "output_type": "stream",
          "name": "stdout",
          "text": [
            "2025-05-13 12:13:37,474 INFO sqlalchemy.engine.Engine COMMIT\n"
          ]
        },
        {
          "output_type": "stream",
          "name": "stderr",
          "text": [
            "INFO:sqlalchemy.engine.Engine:COMMIT\n"
          ]
        },
        {
          "output_type": "stream",
          "name": "stdout",
          "text": [
            "2025-05-13 12:13:37,484 INFO sqlalchemy.engine.Engine BEGIN (implicit)\n"
          ]
        },
        {
          "output_type": "stream",
          "name": "stderr",
          "text": [
            "INFO:sqlalchemy.engine.Engine:BEGIN (implicit)\n"
          ]
        },
        {
          "output_type": "stream",
          "name": "stdout",
          "text": [
            "2025-05-13 12:13:37,486 INFO sqlalchemy.engine.Engine SELECT users.id AS users_id, users.username AS users_username, users.email AS users_email \n",
            "FROM users \n",
            "WHERE users.id = ?\n"
          ]
        },
        {
          "output_type": "stream",
          "name": "stderr",
          "text": [
            "INFO:sqlalchemy.engine.Engine:SELECT users.id AS users_id, users.username AS users_username, users.email AS users_email \n",
            "FROM users \n",
            "WHERE users.id = ?\n"
          ]
        },
        {
          "output_type": "stream",
          "name": "stdout",
          "text": [
            "2025-05-13 12:13:37,488 INFO sqlalchemy.engine.Engine [cached since 0.1344s ago] (7,)\n"
          ]
        },
        {
          "output_type": "stream",
          "name": "stderr",
          "text": [
            "INFO:sqlalchemy.engine.Engine:[cached since 0.1344s ago] (7,)\n"
          ]
        },
        {
          "output_type": "stream",
          "name": "stdout",
          "text": [
            "2025-05-13 12:13:37,491 INFO sqlalchemy.engine.Engine INSERT INTO users (username, email) VALUES (?, ?)\n"
          ]
        },
        {
          "output_type": "stream",
          "name": "stderr",
          "text": [
            "INFO:sqlalchemy.engine.Engine:INSERT INTO users (username, email) VALUES (?, ?)\n"
          ]
        },
        {
          "output_type": "stream",
          "name": "stdout",
          "text": [
            "2025-05-13 12:13:37,492 INFO sqlalchemy.engine.Engine [cached since 0.1587s ago] ('Heidi', 'heidi@example.com')\n"
          ]
        },
        {
          "output_type": "stream",
          "name": "stderr",
          "text": [
            "INFO:sqlalchemy.engine.Engine:[cached since 0.1587s ago] ('Heidi', 'heidi@example.com')\n"
          ]
        },
        {
          "output_type": "stream",
          "name": "stdout",
          "text": [
            "2025-05-13 12:13:37,495 INFO sqlalchemy.engine.Engine COMMIT\n"
          ]
        },
        {
          "output_type": "stream",
          "name": "stderr",
          "text": [
            "INFO:sqlalchemy.engine.Engine:COMMIT\n"
          ]
        },
        {
          "output_type": "stream",
          "name": "stdout",
          "text": [
            "2025-05-13 12:13:37,505 INFO sqlalchemy.engine.Engine BEGIN (implicit)\n"
          ]
        },
        {
          "output_type": "stream",
          "name": "stderr",
          "text": [
            "INFO:sqlalchemy.engine.Engine:BEGIN (implicit)\n"
          ]
        },
        {
          "output_type": "stream",
          "name": "stdout",
          "text": [
            "2025-05-13 12:13:37,507 INFO sqlalchemy.engine.Engine SELECT users.id AS users_id, users.username AS users_username, users.email AS users_email \n",
            "FROM users \n",
            "WHERE users.id = ?\n"
          ]
        },
        {
          "output_type": "stream",
          "name": "stderr",
          "text": [
            "INFO:sqlalchemy.engine.Engine:SELECT users.id AS users_id, users.username AS users_username, users.email AS users_email \n",
            "FROM users \n",
            "WHERE users.id = ?\n"
          ]
        },
        {
          "output_type": "stream",
          "name": "stdout",
          "text": [
            "2025-05-13 12:13:37,508 INFO sqlalchemy.engine.Engine [cached since 0.1548s ago] (8,)\n"
          ]
        },
        {
          "output_type": "stream",
          "name": "stderr",
          "text": [
            "INFO:sqlalchemy.engine.Engine:[cached since 0.1548s ago] (8,)\n"
          ]
        },
        {
          "output_type": "stream",
          "name": "stdout",
          "text": [
            "2025-05-13 12:13:37,512 INFO sqlalchemy.engine.Engine INSERT INTO users (username, email) VALUES (?, ?)\n"
          ]
        },
        {
          "output_type": "stream",
          "name": "stderr",
          "text": [
            "INFO:sqlalchemy.engine.Engine:INSERT INTO users (username, email) VALUES (?, ?)\n"
          ]
        },
        {
          "output_type": "stream",
          "name": "stdout",
          "text": [
            "2025-05-13 12:13:37,513 INFO sqlalchemy.engine.Engine [cached since 0.18s ago] ('Ivan', 'ivan@example.com')\n"
          ]
        },
        {
          "output_type": "stream",
          "name": "stderr",
          "text": [
            "INFO:sqlalchemy.engine.Engine:[cached since 0.18s ago] ('Ivan', 'ivan@example.com')\n"
          ]
        },
        {
          "output_type": "stream",
          "name": "stdout",
          "text": [
            "2025-05-13 12:13:37,515 INFO sqlalchemy.engine.Engine COMMIT\n"
          ]
        },
        {
          "output_type": "stream",
          "name": "stderr",
          "text": [
            "INFO:sqlalchemy.engine.Engine:COMMIT\n"
          ]
        },
        {
          "output_type": "stream",
          "name": "stdout",
          "text": [
            "2025-05-13 12:13:37,527 INFO sqlalchemy.engine.Engine BEGIN (implicit)\n"
          ]
        },
        {
          "output_type": "stream",
          "name": "stderr",
          "text": [
            "INFO:sqlalchemy.engine.Engine:BEGIN (implicit)\n"
          ]
        },
        {
          "output_type": "stream",
          "name": "stdout",
          "text": [
            "2025-05-13 12:13:37,529 INFO sqlalchemy.engine.Engine SELECT users.id AS users_id, users.username AS users_username, users.email AS users_email \n",
            "FROM users \n",
            "WHERE users.id = ?\n"
          ]
        },
        {
          "output_type": "stream",
          "name": "stderr",
          "text": [
            "INFO:sqlalchemy.engine.Engine:SELECT users.id AS users_id, users.username AS users_username, users.email AS users_email \n",
            "FROM users \n",
            "WHERE users.id = ?\n"
          ]
        },
        {
          "output_type": "stream",
          "name": "stdout",
          "text": [
            "2025-05-13 12:13:37,531 INFO sqlalchemy.engine.Engine [cached since 0.1773s ago] (9,)\n"
          ]
        },
        {
          "output_type": "stream",
          "name": "stderr",
          "text": [
            "INFO:sqlalchemy.engine.Engine:[cached since 0.1773s ago] (9,)\n"
          ]
        },
        {
          "output_type": "stream",
          "name": "stdout",
          "text": [
            "2025-05-13 12:13:37,533 INFO sqlalchemy.engine.Engine INSERT INTO users (username, email) VALUES (?, ?)\n"
          ]
        },
        {
          "output_type": "stream",
          "name": "stderr",
          "text": [
            "INFO:sqlalchemy.engine.Engine:INSERT INTO users (username, email) VALUES (?, ?)\n"
          ]
        },
        {
          "output_type": "stream",
          "name": "stdout",
          "text": [
            "2025-05-13 12:13:37,535 INFO sqlalchemy.engine.Engine [cached since 0.2016s ago] ('Judy', 'judy@example.com')\n"
          ]
        },
        {
          "output_type": "stream",
          "name": "stderr",
          "text": [
            "INFO:sqlalchemy.engine.Engine:[cached since 0.2016s ago] ('Judy', 'judy@example.com')\n"
          ]
        },
        {
          "output_type": "stream",
          "name": "stdout",
          "text": [
            "2025-05-13 12:13:37,537 INFO sqlalchemy.engine.Engine COMMIT\n"
          ]
        },
        {
          "output_type": "stream",
          "name": "stderr",
          "text": [
            "INFO:sqlalchemy.engine.Engine:COMMIT\n"
          ]
        },
        {
          "output_type": "stream",
          "name": "stdout",
          "text": [
            "2025-05-13 12:13:37,548 INFO sqlalchemy.engine.Engine BEGIN (implicit)\n"
          ]
        },
        {
          "output_type": "stream",
          "name": "stderr",
          "text": [
            "INFO:sqlalchemy.engine.Engine:BEGIN (implicit)\n"
          ]
        },
        {
          "output_type": "stream",
          "name": "stdout",
          "text": [
            "2025-05-13 12:13:37,550 INFO sqlalchemy.engine.Engine SELECT users.id AS users_id, users.username AS users_username, users.email AS users_email \n",
            "FROM users \n",
            "WHERE users.id = ?\n"
          ]
        },
        {
          "output_type": "stream",
          "name": "stderr",
          "text": [
            "INFO:sqlalchemy.engine.Engine:SELECT users.id AS users_id, users.username AS users_username, users.email AS users_email \n",
            "FROM users \n",
            "WHERE users.id = ?\n"
          ]
        },
        {
          "output_type": "stream",
          "name": "stdout",
          "text": [
            "2025-05-13 12:13:37,551 INFO sqlalchemy.engine.Engine [cached since 0.1977s ago] (10,)\n"
          ]
        },
        {
          "output_type": "stream",
          "name": "stderr",
          "text": [
            "INFO:sqlalchemy.engine.Engine:[cached since 0.1977s ago] (10,)\n"
          ]
        },
        {
          "output_type": "stream",
          "name": "stdout",
          "text": [
            "2025-05-13 12:13:37,555 INFO sqlalchemy.engine.Engine INSERT INTO \"Products\" (name, price) VALUES (?, ?)\n"
          ]
        },
        {
          "output_type": "stream",
          "name": "stderr",
          "text": [
            "INFO:sqlalchemy.engine.Engine:INSERT INTO \"Products\" (name, price) VALUES (?, ?)\n"
          ]
        },
        {
          "output_type": "stream",
          "name": "stdout",
          "text": [
            "2025-05-13 12:13:37,556 INFO sqlalchemy.engine.Engine [generated in 0.00194s] ('Laptop', 1000.0)\n"
          ]
        },
        {
          "output_type": "stream",
          "name": "stderr",
          "text": [
            "INFO:sqlalchemy.engine.Engine:[generated in 0.00194s] ('Laptop', 1000.0)\n"
          ]
        },
        {
          "output_type": "stream",
          "name": "stdout",
          "text": [
            "2025-05-13 12:13:37,560 INFO sqlalchemy.engine.Engine COMMIT\n"
          ]
        },
        {
          "output_type": "stream",
          "name": "stderr",
          "text": [
            "INFO:sqlalchemy.engine.Engine:COMMIT\n"
          ]
        },
        {
          "output_type": "stream",
          "name": "stdout",
          "text": [
            "2025-05-13 12:13:37,572 INFO sqlalchemy.engine.Engine BEGIN (implicit)\n"
          ]
        },
        {
          "output_type": "stream",
          "name": "stderr",
          "text": [
            "INFO:sqlalchemy.engine.Engine:BEGIN (implicit)\n"
          ]
        },
        {
          "output_type": "stream",
          "name": "stdout",
          "text": [
            "2025-05-13 12:13:37,575 INFO sqlalchemy.engine.Engine SELECT \"Products\".id AS \"Products_id\", \"Products\".name AS \"Products_name\", \"Products\".price AS \"Products_price\" \n",
            "FROM \"Products\" \n",
            "WHERE \"Products\".id = ?\n"
          ]
        },
        {
          "output_type": "stream",
          "name": "stderr",
          "text": [
            "INFO:sqlalchemy.engine.Engine:SELECT \"Products\".id AS \"Products_id\", \"Products\".name AS \"Products_name\", \"Products\".price AS \"Products_price\" \n",
            "FROM \"Products\" \n",
            "WHERE \"Products\".id = ?\n"
          ]
        },
        {
          "output_type": "stream",
          "name": "stdout",
          "text": [
            "2025-05-13 12:13:37,577 INFO sqlalchemy.engine.Engine [generated in 0.00161s] (1,)\n"
          ]
        },
        {
          "output_type": "stream",
          "name": "stderr",
          "text": [
            "INFO:sqlalchemy.engine.Engine:[generated in 0.00161s] (1,)\n"
          ]
        },
        {
          "output_type": "stream",
          "name": "stdout",
          "text": [
            "2025-05-13 12:13:37,580 INFO sqlalchemy.engine.Engine INSERT INTO \"Products\" (name, price) VALUES (?, ?)\n"
          ]
        },
        {
          "output_type": "stream",
          "name": "stderr",
          "text": [
            "INFO:sqlalchemy.engine.Engine:INSERT INTO \"Products\" (name, price) VALUES (?, ?)\n"
          ]
        },
        {
          "output_type": "stream",
          "name": "stdout",
          "text": [
            "2025-05-13 12:13:37,581 INFO sqlalchemy.engine.Engine [cached since 0.02689s ago] ('Smartphone', 500.0)\n"
          ]
        },
        {
          "output_type": "stream",
          "name": "stderr",
          "text": [
            "INFO:sqlalchemy.engine.Engine:[cached since 0.02689s ago] ('Smartphone', 500.0)\n"
          ]
        },
        {
          "output_type": "stream",
          "name": "stdout",
          "text": [
            "2025-05-13 12:13:37,584 INFO sqlalchemy.engine.Engine COMMIT\n"
          ]
        },
        {
          "output_type": "stream",
          "name": "stderr",
          "text": [
            "INFO:sqlalchemy.engine.Engine:COMMIT\n"
          ]
        },
        {
          "output_type": "stream",
          "name": "stdout",
          "text": [
            "2025-05-13 12:13:37,595 INFO sqlalchemy.engine.Engine BEGIN (implicit)\n"
          ]
        },
        {
          "output_type": "stream",
          "name": "stderr",
          "text": [
            "INFO:sqlalchemy.engine.Engine:BEGIN (implicit)\n"
          ]
        },
        {
          "output_type": "stream",
          "name": "stdout",
          "text": [
            "2025-05-13 12:13:37,597 INFO sqlalchemy.engine.Engine SELECT \"Products\".id AS \"Products_id\", \"Products\".name AS \"Products_name\", \"Products\".price AS \"Products_price\" \n",
            "FROM \"Products\" \n",
            "WHERE \"Products\".id = ?\n"
          ]
        },
        {
          "output_type": "stream",
          "name": "stderr",
          "text": [
            "INFO:sqlalchemy.engine.Engine:SELECT \"Products\".id AS \"Products_id\", \"Products\".name AS \"Products_name\", \"Products\".price AS \"Products_price\" \n",
            "FROM \"Products\" \n",
            "WHERE \"Products\".id = ?\n"
          ]
        },
        {
          "output_type": "stream",
          "name": "stdout",
          "text": [
            "2025-05-13 12:13:37,598 INFO sqlalchemy.engine.Engine [cached since 0.02286s ago] (2,)\n"
          ]
        },
        {
          "output_type": "stream",
          "name": "stderr",
          "text": [
            "INFO:sqlalchemy.engine.Engine:[cached since 0.02286s ago] (2,)\n"
          ]
        },
        {
          "output_type": "stream",
          "name": "stdout",
          "text": [
            "2025-05-13 12:13:37,600 INFO sqlalchemy.engine.Engine INSERT INTO \"Products\" (name, price) VALUES (?, ?)\n"
          ]
        },
        {
          "output_type": "stream",
          "name": "stderr",
          "text": [
            "INFO:sqlalchemy.engine.Engine:INSERT INTO \"Products\" (name, price) VALUES (?, ?)\n"
          ]
        },
        {
          "output_type": "stream",
          "name": "stdout",
          "text": [
            "2025-05-13 12:13:37,601 INFO sqlalchemy.engine.Engine [cached since 0.0469s ago] ('Tablet', 300.0)\n"
          ]
        },
        {
          "output_type": "stream",
          "name": "stderr",
          "text": [
            "INFO:sqlalchemy.engine.Engine:[cached since 0.0469s ago] ('Tablet', 300.0)\n"
          ]
        },
        {
          "output_type": "stream",
          "name": "stdout",
          "text": [
            "2025-05-13 12:13:37,604 INFO sqlalchemy.engine.Engine COMMIT\n"
          ]
        },
        {
          "output_type": "stream",
          "name": "stderr",
          "text": [
            "INFO:sqlalchemy.engine.Engine:COMMIT\n"
          ]
        },
        {
          "output_type": "stream",
          "name": "stdout",
          "text": [
            "2025-05-13 12:13:37,614 INFO sqlalchemy.engine.Engine BEGIN (implicit)\n"
          ]
        },
        {
          "output_type": "stream",
          "name": "stderr",
          "text": [
            "INFO:sqlalchemy.engine.Engine:BEGIN (implicit)\n"
          ]
        },
        {
          "output_type": "stream",
          "name": "stdout",
          "text": [
            "2025-05-13 12:13:37,616 INFO sqlalchemy.engine.Engine SELECT \"Products\".id AS \"Products_id\", \"Products\".name AS \"Products_name\", \"Products\".price AS \"Products_price\" \n",
            "FROM \"Products\" \n",
            "WHERE \"Products\".id = ?\n"
          ]
        },
        {
          "output_type": "stream",
          "name": "stderr",
          "text": [
            "INFO:sqlalchemy.engine.Engine:SELECT \"Products\".id AS \"Products_id\", \"Products\".name AS \"Products_name\", \"Products\".price AS \"Products_price\" \n",
            "FROM \"Products\" \n",
            "WHERE \"Products\".id = ?\n"
          ]
        },
        {
          "output_type": "stream",
          "name": "stdout",
          "text": [
            "2025-05-13 12:13:37,617 INFO sqlalchemy.engine.Engine [cached since 0.04224s ago] (3,)\n"
          ]
        },
        {
          "output_type": "stream",
          "name": "stderr",
          "text": [
            "INFO:sqlalchemy.engine.Engine:[cached since 0.04224s ago] (3,)\n"
          ]
        },
        {
          "output_type": "stream",
          "name": "stdout",
          "text": [
            "2025-05-13 12:13:37,620 INFO sqlalchemy.engine.Engine INSERT INTO \"Products\" (name, price) VALUES (?, ?)\n"
          ]
        },
        {
          "output_type": "stream",
          "name": "stderr",
          "text": [
            "INFO:sqlalchemy.engine.Engine:INSERT INTO \"Products\" (name, price) VALUES (?, ?)\n"
          ]
        },
        {
          "output_type": "stream",
          "name": "stdout",
          "text": [
            "2025-05-13 12:13:37,623 INFO sqlalchemy.engine.Engine [cached since 0.06867s ago] ('Monitor', 150.0)\n"
          ]
        },
        {
          "output_type": "stream",
          "name": "stderr",
          "text": [
            "INFO:sqlalchemy.engine.Engine:[cached since 0.06867s ago] ('Monitor', 150.0)\n"
          ]
        },
        {
          "output_type": "stream",
          "name": "stdout",
          "text": [
            "2025-05-13 12:13:37,626 INFO sqlalchemy.engine.Engine COMMIT\n"
          ]
        },
        {
          "output_type": "stream",
          "name": "stderr",
          "text": [
            "INFO:sqlalchemy.engine.Engine:COMMIT\n"
          ]
        },
        {
          "output_type": "stream",
          "name": "stdout",
          "text": [
            "2025-05-13 12:13:37,636 INFO sqlalchemy.engine.Engine BEGIN (implicit)\n"
          ]
        },
        {
          "output_type": "stream",
          "name": "stderr",
          "text": [
            "INFO:sqlalchemy.engine.Engine:BEGIN (implicit)\n"
          ]
        },
        {
          "output_type": "stream",
          "name": "stdout",
          "text": [
            "2025-05-13 12:13:37,638 INFO sqlalchemy.engine.Engine SELECT \"Products\".id AS \"Products_id\", \"Products\".name AS \"Products_name\", \"Products\".price AS \"Products_price\" \n",
            "FROM \"Products\" \n",
            "WHERE \"Products\".id = ?\n"
          ]
        },
        {
          "output_type": "stream",
          "name": "stderr",
          "text": [
            "INFO:sqlalchemy.engine.Engine:SELECT \"Products\".id AS \"Products_id\", \"Products\".name AS \"Products_name\", \"Products\".price AS \"Products_price\" \n",
            "FROM \"Products\" \n",
            "WHERE \"Products\".id = ?\n"
          ]
        },
        {
          "output_type": "stream",
          "name": "stdout",
          "text": [
            "2025-05-13 12:13:37,639 INFO sqlalchemy.engine.Engine [cached since 0.06423s ago] (4,)\n"
          ]
        },
        {
          "output_type": "stream",
          "name": "stderr",
          "text": [
            "INFO:sqlalchemy.engine.Engine:[cached since 0.06423s ago] (4,)\n"
          ]
        },
        {
          "output_type": "stream",
          "name": "stdout",
          "text": [
            "2025-05-13 12:13:37,643 INFO sqlalchemy.engine.Engine INSERT INTO \"Products\" (name, price) VALUES (?, ?)\n"
          ]
        },
        {
          "output_type": "stream",
          "name": "stderr",
          "text": [
            "INFO:sqlalchemy.engine.Engine:INSERT INTO \"Products\" (name, price) VALUES (?, ?)\n"
          ]
        },
        {
          "output_type": "stream",
          "name": "stdout",
          "text": [
            "2025-05-13 12:13:37,645 INFO sqlalchemy.engine.Engine [cached since 0.09004s ago] ('Keyboard', 50.0)\n"
          ]
        },
        {
          "output_type": "stream",
          "name": "stderr",
          "text": [
            "INFO:sqlalchemy.engine.Engine:[cached since 0.09004s ago] ('Keyboard', 50.0)\n"
          ]
        },
        {
          "output_type": "stream",
          "name": "stdout",
          "text": [
            "2025-05-13 12:13:37,647 INFO sqlalchemy.engine.Engine COMMIT\n"
          ]
        },
        {
          "output_type": "stream",
          "name": "stderr",
          "text": [
            "INFO:sqlalchemy.engine.Engine:COMMIT\n"
          ]
        },
        {
          "output_type": "stream",
          "name": "stdout",
          "text": [
            "2025-05-13 12:13:37,659 INFO sqlalchemy.engine.Engine BEGIN (implicit)\n"
          ]
        },
        {
          "output_type": "stream",
          "name": "stderr",
          "text": [
            "INFO:sqlalchemy.engine.Engine:BEGIN (implicit)\n"
          ]
        },
        {
          "output_type": "stream",
          "name": "stdout",
          "text": [
            "2025-05-13 12:13:37,660 INFO sqlalchemy.engine.Engine SELECT \"Products\".id AS \"Products_id\", \"Products\".name AS \"Products_name\", \"Products\".price AS \"Products_price\" \n",
            "FROM \"Products\" \n",
            "WHERE \"Products\".id = ?\n"
          ]
        },
        {
          "output_type": "stream",
          "name": "stderr",
          "text": [
            "INFO:sqlalchemy.engine.Engine:SELECT \"Products\".id AS \"Products_id\", \"Products\".name AS \"Products_name\", \"Products\".price AS \"Products_price\" \n",
            "FROM \"Products\" \n",
            "WHERE \"Products\".id = ?\n"
          ]
        },
        {
          "output_type": "stream",
          "name": "stdout",
          "text": [
            "2025-05-13 12:13:37,662 INFO sqlalchemy.engine.Engine [cached since 0.08672s ago] (5,)\n"
          ]
        },
        {
          "output_type": "stream",
          "name": "stderr",
          "text": [
            "INFO:sqlalchemy.engine.Engine:[cached since 0.08672s ago] (5,)\n"
          ]
        },
        {
          "output_type": "stream",
          "name": "stdout",
          "text": [
            "2025-05-13 12:13:37,665 INFO sqlalchemy.engine.Engine INSERT INTO \"Products\" (name, price) VALUES (?, ?)\n"
          ]
        },
        {
          "output_type": "stream",
          "name": "stderr",
          "text": [
            "INFO:sqlalchemy.engine.Engine:INSERT INTO \"Products\" (name, price) VALUES (?, ?)\n"
          ]
        },
        {
          "output_type": "stream",
          "name": "stdout",
          "text": [
            "2025-05-13 12:13:37,666 INFO sqlalchemy.engine.Engine [cached since 0.1119s ago] ('Mouse', 25.0)\n"
          ]
        },
        {
          "output_type": "stream",
          "name": "stderr",
          "text": [
            "INFO:sqlalchemy.engine.Engine:[cached since 0.1119s ago] ('Mouse', 25.0)\n"
          ]
        },
        {
          "output_type": "stream",
          "name": "stdout",
          "text": [
            "2025-05-13 12:13:37,669 INFO sqlalchemy.engine.Engine COMMIT\n"
          ]
        },
        {
          "output_type": "stream",
          "name": "stderr",
          "text": [
            "INFO:sqlalchemy.engine.Engine:COMMIT\n"
          ]
        },
        {
          "output_type": "stream",
          "name": "stdout",
          "text": [
            "2025-05-13 12:13:37,680 INFO sqlalchemy.engine.Engine BEGIN (implicit)\n"
          ]
        },
        {
          "output_type": "stream",
          "name": "stderr",
          "text": [
            "INFO:sqlalchemy.engine.Engine:BEGIN (implicit)\n"
          ]
        },
        {
          "output_type": "stream",
          "name": "stdout",
          "text": [
            "2025-05-13 12:13:37,682 INFO sqlalchemy.engine.Engine SELECT \"Products\".id AS \"Products_id\", \"Products\".name AS \"Products_name\", \"Products\".price AS \"Products_price\" \n",
            "FROM \"Products\" \n",
            "WHERE \"Products\".id = ?\n"
          ]
        },
        {
          "output_type": "stream",
          "name": "stderr",
          "text": [
            "INFO:sqlalchemy.engine.Engine:SELECT \"Products\".id AS \"Products_id\", \"Products\".name AS \"Products_name\", \"Products\".price AS \"Products_price\" \n",
            "FROM \"Products\" \n",
            "WHERE \"Products\".id = ?\n"
          ]
        },
        {
          "output_type": "stream",
          "name": "stdout",
          "text": [
            "2025-05-13 12:13:37,684 INFO sqlalchemy.engine.Engine [cached since 0.1089s ago] (6,)\n"
          ]
        },
        {
          "output_type": "stream",
          "name": "stderr",
          "text": [
            "INFO:sqlalchemy.engine.Engine:[cached since 0.1089s ago] (6,)\n"
          ]
        },
        {
          "output_type": "stream",
          "name": "stdout",
          "text": [
            "2025-05-13 12:13:37,687 INFO sqlalchemy.engine.Engine INSERT INTO \"Products\" (name, price) VALUES (?, ?)\n"
          ]
        },
        {
          "output_type": "stream",
          "name": "stderr",
          "text": [
            "INFO:sqlalchemy.engine.Engine:INSERT INTO \"Products\" (name, price) VALUES (?, ?)\n"
          ]
        },
        {
          "output_type": "stream",
          "name": "stdout",
          "text": [
            "2025-05-13 12:13:37,688 INFO sqlalchemy.engine.Engine [cached since 0.1333s ago] ('Printer', 200.0)\n"
          ]
        },
        {
          "output_type": "stream",
          "name": "stderr",
          "text": [
            "INFO:sqlalchemy.engine.Engine:[cached since 0.1333s ago] ('Printer', 200.0)\n"
          ]
        },
        {
          "output_type": "stream",
          "name": "stdout",
          "text": [
            "2025-05-13 12:13:37,691 INFO sqlalchemy.engine.Engine COMMIT\n"
          ]
        },
        {
          "output_type": "stream",
          "name": "stderr",
          "text": [
            "INFO:sqlalchemy.engine.Engine:COMMIT\n"
          ]
        },
        {
          "output_type": "stream",
          "name": "stdout",
          "text": [
            "2025-05-13 12:13:37,700 INFO sqlalchemy.engine.Engine BEGIN (implicit)\n"
          ]
        },
        {
          "output_type": "stream",
          "name": "stderr",
          "text": [
            "INFO:sqlalchemy.engine.Engine:BEGIN (implicit)\n"
          ]
        },
        {
          "output_type": "stream",
          "name": "stdout",
          "text": [
            "2025-05-13 12:13:37,702 INFO sqlalchemy.engine.Engine SELECT \"Products\".id AS \"Products_id\", \"Products\".name AS \"Products_name\", \"Products\".price AS \"Products_price\" \n",
            "FROM \"Products\" \n",
            "WHERE \"Products\".id = ?\n"
          ]
        },
        {
          "output_type": "stream",
          "name": "stderr",
          "text": [
            "INFO:sqlalchemy.engine.Engine:SELECT \"Products\".id AS \"Products_id\", \"Products\".name AS \"Products_name\", \"Products\".price AS \"Products_price\" \n",
            "FROM \"Products\" \n",
            "WHERE \"Products\".id = ?\n"
          ]
        },
        {
          "output_type": "stream",
          "name": "stdout",
          "text": [
            "2025-05-13 12:13:37,703 INFO sqlalchemy.engine.Engine [cached since 0.1281s ago] (7,)\n"
          ]
        },
        {
          "output_type": "stream",
          "name": "stderr",
          "text": [
            "INFO:sqlalchemy.engine.Engine:[cached since 0.1281s ago] (7,)\n"
          ]
        },
        {
          "output_type": "stream",
          "name": "stdout",
          "text": [
            "2025-05-13 12:13:37,706 INFO sqlalchemy.engine.Engine INSERT INTO \"Products\" (name, price) VALUES (?, ?)\n"
          ]
        },
        {
          "output_type": "stream",
          "name": "stderr",
          "text": [
            "INFO:sqlalchemy.engine.Engine:INSERT INTO \"Products\" (name, price) VALUES (?, ?)\n"
          ]
        },
        {
          "output_type": "stream",
          "name": "stdout",
          "text": [
            "2025-05-13 12:13:37,708 INFO sqlalchemy.engine.Engine [cached since 0.1532s ago] ('Router', 75.0)\n"
          ]
        },
        {
          "output_type": "stream",
          "name": "stderr",
          "text": [
            "INFO:sqlalchemy.engine.Engine:[cached since 0.1532s ago] ('Router', 75.0)\n"
          ]
        },
        {
          "output_type": "stream",
          "name": "stdout",
          "text": [
            "2025-05-13 12:13:37,710 INFO sqlalchemy.engine.Engine COMMIT\n"
          ]
        },
        {
          "output_type": "stream",
          "name": "stderr",
          "text": [
            "INFO:sqlalchemy.engine.Engine:COMMIT\n"
          ]
        },
        {
          "output_type": "stream",
          "name": "stdout",
          "text": [
            "2025-05-13 12:13:37,721 INFO sqlalchemy.engine.Engine BEGIN (implicit)\n"
          ]
        },
        {
          "output_type": "stream",
          "name": "stderr",
          "text": [
            "INFO:sqlalchemy.engine.Engine:BEGIN (implicit)\n"
          ]
        },
        {
          "output_type": "stream",
          "name": "stdout",
          "text": [
            "2025-05-13 12:13:37,723 INFO sqlalchemy.engine.Engine SELECT \"Products\".id AS \"Products_id\", \"Products\".name AS \"Products_name\", \"Products\".price AS \"Products_price\" \n",
            "FROM \"Products\" \n",
            "WHERE \"Products\".id = ?\n"
          ]
        },
        {
          "output_type": "stream",
          "name": "stderr",
          "text": [
            "INFO:sqlalchemy.engine.Engine:SELECT \"Products\".id AS \"Products_id\", \"Products\".name AS \"Products_name\", \"Products\".price AS \"Products_price\" \n",
            "FROM \"Products\" \n",
            "WHERE \"Products\".id = ?\n"
          ]
        },
        {
          "output_type": "stream",
          "name": "stdout",
          "text": [
            "2025-05-13 12:13:37,724 INFO sqlalchemy.engine.Engine [cached since 0.149s ago] (8,)\n"
          ]
        },
        {
          "output_type": "stream",
          "name": "stderr",
          "text": [
            "INFO:sqlalchemy.engine.Engine:[cached since 0.149s ago] (8,)\n"
          ]
        },
        {
          "output_type": "stream",
          "name": "stdout",
          "text": [
            "2025-05-13 12:13:37,727 INFO sqlalchemy.engine.Engine INSERT INTO \"Products\" (name, price) VALUES (?, ?)\n"
          ]
        },
        {
          "output_type": "stream",
          "name": "stderr",
          "text": [
            "INFO:sqlalchemy.engine.Engine:INSERT INTO \"Products\" (name, price) VALUES (?, ?)\n"
          ]
        },
        {
          "output_type": "stream",
          "name": "stdout",
          "text": [
            "2025-05-13 12:13:37,729 INFO sqlalchemy.engine.Engine [cached since 0.1748s ago] ('Webcam', 60.0)\n"
          ]
        },
        {
          "output_type": "stream",
          "name": "stderr",
          "text": [
            "INFO:sqlalchemy.engine.Engine:[cached since 0.1748s ago] ('Webcam', 60.0)\n"
          ]
        },
        {
          "output_type": "stream",
          "name": "stdout",
          "text": [
            "2025-05-13 12:13:37,732 INFO sqlalchemy.engine.Engine COMMIT\n"
          ]
        },
        {
          "output_type": "stream",
          "name": "stderr",
          "text": [
            "INFO:sqlalchemy.engine.Engine:COMMIT\n"
          ]
        },
        {
          "output_type": "stream",
          "name": "stdout",
          "text": [
            "2025-05-13 12:13:37,742 INFO sqlalchemy.engine.Engine BEGIN (implicit)\n"
          ]
        },
        {
          "output_type": "stream",
          "name": "stderr",
          "text": [
            "INFO:sqlalchemy.engine.Engine:BEGIN (implicit)\n"
          ]
        },
        {
          "output_type": "stream",
          "name": "stdout",
          "text": [
            "2025-05-13 12:13:37,744 INFO sqlalchemy.engine.Engine SELECT \"Products\".id AS \"Products_id\", \"Products\".name AS \"Products_name\", \"Products\".price AS \"Products_price\" \n",
            "FROM \"Products\" \n",
            "WHERE \"Products\".id = ?\n"
          ]
        },
        {
          "output_type": "stream",
          "name": "stderr",
          "text": [
            "INFO:sqlalchemy.engine.Engine:SELECT \"Products\".id AS \"Products_id\", \"Products\".name AS \"Products_name\", \"Products\".price AS \"Products_price\" \n",
            "FROM \"Products\" \n",
            "WHERE \"Products\".id = ?\n"
          ]
        },
        {
          "output_type": "stream",
          "name": "stdout",
          "text": [
            "2025-05-13 12:13:37,746 INFO sqlalchemy.engine.Engine [cached since 0.1706s ago] (9,)\n"
          ]
        },
        {
          "output_type": "stream",
          "name": "stderr",
          "text": [
            "INFO:sqlalchemy.engine.Engine:[cached since 0.1706s ago] (9,)\n"
          ]
        },
        {
          "output_type": "stream",
          "name": "stdout",
          "text": [
            "2025-05-13 12:13:37,749 INFO sqlalchemy.engine.Engine INSERT INTO \"Products\" (name, price) VALUES (?, ?)\n"
          ]
        },
        {
          "output_type": "stream",
          "name": "stderr",
          "text": [
            "INFO:sqlalchemy.engine.Engine:INSERT INTO \"Products\" (name, price) VALUES (?, ?)\n"
          ]
        },
        {
          "output_type": "stream",
          "name": "stdout",
          "text": [
            "2025-05-13 12:13:37,750 INFO sqlalchemy.engine.Engine [cached since 0.1958s ago] ('Headphones', 80.0)\n"
          ]
        },
        {
          "output_type": "stream",
          "name": "stderr",
          "text": [
            "INFO:sqlalchemy.engine.Engine:[cached since 0.1958s ago] ('Headphones', 80.0)\n"
          ]
        },
        {
          "output_type": "stream",
          "name": "stdout",
          "text": [
            "2025-05-13 12:13:37,753 INFO sqlalchemy.engine.Engine COMMIT\n"
          ]
        },
        {
          "output_type": "stream",
          "name": "stderr",
          "text": [
            "INFO:sqlalchemy.engine.Engine:COMMIT\n"
          ]
        },
        {
          "output_type": "stream",
          "name": "stdout",
          "text": [
            "2025-05-13 12:13:37,763 INFO sqlalchemy.engine.Engine BEGIN (implicit)\n"
          ]
        },
        {
          "output_type": "stream",
          "name": "stderr",
          "text": [
            "INFO:sqlalchemy.engine.Engine:BEGIN (implicit)\n"
          ]
        },
        {
          "output_type": "stream",
          "name": "stdout",
          "text": [
            "2025-05-13 12:13:37,764 INFO sqlalchemy.engine.Engine SELECT \"Products\".id AS \"Products_id\", \"Products\".name AS \"Products_name\", \"Products\".price AS \"Products_price\" \n",
            "FROM \"Products\" \n",
            "WHERE \"Products\".id = ?\n"
          ]
        },
        {
          "output_type": "stream",
          "name": "stderr",
          "text": [
            "INFO:sqlalchemy.engine.Engine:SELECT \"Products\".id AS \"Products_id\", \"Products\".name AS \"Products_name\", \"Products\".price AS \"Products_price\" \n",
            "FROM \"Products\" \n",
            "WHERE \"Products\".id = ?\n"
          ]
        },
        {
          "output_type": "stream",
          "name": "stdout",
          "text": [
            "2025-05-13 12:13:37,766 INFO sqlalchemy.engine.Engine [cached since 0.1907s ago] (10,)\n"
          ]
        },
        {
          "output_type": "stream",
          "name": "stderr",
          "text": [
            "INFO:sqlalchemy.engine.Engine:[cached since 0.1907s ago] (10,)\n"
          ]
        },
        {
          "output_type": "stream",
          "name": "stdout",
          "text": [
            "2025-05-13 12:13:37,773 INFO sqlalchemy.engine.Engine INSERT INTO orders (user_id) VALUES (?)\n"
          ]
        },
        {
          "output_type": "stream",
          "name": "stderr",
          "text": [
            "INFO:sqlalchemy.engine.Engine:INSERT INTO orders (user_id) VALUES (?)\n"
          ]
        },
        {
          "output_type": "stream",
          "name": "stdout",
          "text": [
            "2025-05-13 12:13:37,776 INFO sqlalchemy.engine.Engine [generated in 0.00294s] (1,)\n"
          ]
        },
        {
          "output_type": "stream",
          "name": "stderr",
          "text": [
            "INFO:sqlalchemy.engine.Engine:[generated in 0.00294s] (1,)\n"
          ]
        },
        {
          "output_type": "stream",
          "name": "stdout",
          "text": [
            "2025-05-13 12:13:37,779 INFO sqlalchemy.engine.Engine COMMIT\n"
          ]
        },
        {
          "output_type": "stream",
          "name": "stderr",
          "text": [
            "INFO:sqlalchemy.engine.Engine:COMMIT\n"
          ]
        },
        {
          "output_type": "stream",
          "name": "stdout",
          "text": [
            "2025-05-13 12:13:37,788 INFO sqlalchemy.engine.Engine BEGIN (implicit)\n"
          ]
        },
        {
          "output_type": "stream",
          "name": "stderr",
          "text": [
            "INFO:sqlalchemy.engine.Engine:BEGIN (implicit)\n"
          ]
        },
        {
          "output_type": "stream",
          "name": "stdout",
          "text": [
            "2025-05-13 12:13:37,792 INFO sqlalchemy.engine.Engine SELECT orders.id AS orders_id, orders.user_id AS orders_user_id \n",
            "FROM orders \n",
            "WHERE orders.id = ?\n"
          ]
        },
        {
          "output_type": "stream",
          "name": "stderr",
          "text": [
            "INFO:sqlalchemy.engine.Engine:SELECT orders.id AS orders_id, orders.user_id AS orders_user_id \n",
            "FROM orders \n",
            "WHERE orders.id = ?\n"
          ]
        },
        {
          "output_type": "stream",
          "name": "stdout",
          "text": [
            "2025-05-13 12:13:37,794 INFO sqlalchemy.engine.Engine [generated in 0.00256s] (1,)\n"
          ]
        },
        {
          "output_type": "stream",
          "name": "stderr",
          "text": [
            "INFO:sqlalchemy.engine.Engine:[generated in 0.00256s] (1,)\n"
          ]
        },
        {
          "output_type": "stream",
          "name": "stdout",
          "text": [
            "2025-05-13 12:13:37,797 INFO sqlalchemy.engine.Engine INSERT INTO orders (user_id) VALUES (?)\n"
          ]
        },
        {
          "output_type": "stream",
          "name": "stderr",
          "text": [
            "INFO:sqlalchemy.engine.Engine:INSERT INTO orders (user_id) VALUES (?)\n"
          ]
        },
        {
          "output_type": "stream",
          "name": "stdout",
          "text": [
            "2025-05-13 12:13:37,799 INFO sqlalchemy.engine.Engine [cached since 0.02547s ago] (2,)\n"
          ]
        },
        {
          "output_type": "stream",
          "name": "stderr",
          "text": [
            "INFO:sqlalchemy.engine.Engine:[cached since 0.02547s ago] (2,)\n"
          ]
        },
        {
          "output_type": "stream",
          "name": "stdout",
          "text": [
            "2025-05-13 12:13:37,802 INFO sqlalchemy.engine.Engine COMMIT\n"
          ]
        },
        {
          "output_type": "stream",
          "name": "stderr",
          "text": [
            "INFO:sqlalchemy.engine.Engine:COMMIT\n"
          ]
        },
        {
          "output_type": "stream",
          "name": "stdout",
          "text": [
            "2025-05-13 12:13:37,811 INFO sqlalchemy.engine.Engine BEGIN (implicit)\n"
          ]
        },
        {
          "output_type": "stream",
          "name": "stderr",
          "text": [
            "INFO:sqlalchemy.engine.Engine:BEGIN (implicit)\n"
          ]
        },
        {
          "output_type": "stream",
          "name": "stdout",
          "text": [
            "2025-05-13 12:13:37,816 INFO sqlalchemy.engine.Engine SELECT orders.id AS orders_id, orders.user_id AS orders_user_id \n",
            "FROM orders \n",
            "WHERE orders.id = ?\n"
          ]
        },
        {
          "output_type": "stream",
          "name": "stderr",
          "text": [
            "INFO:sqlalchemy.engine.Engine:SELECT orders.id AS orders_id, orders.user_id AS orders_user_id \n",
            "FROM orders \n",
            "WHERE orders.id = ?\n"
          ]
        },
        {
          "output_type": "stream",
          "name": "stdout",
          "text": [
            "2025-05-13 12:13:37,819 INFO sqlalchemy.engine.Engine [cached since 0.0276s ago] (2,)\n"
          ]
        },
        {
          "output_type": "stream",
          "name": "stderr",
          "text": [
            "INFO:sqlalchemy.engine.Engine:[cached since 0.0276s ago] (2,)\n"
          ]
        },
        {
          "output_type": "stream",
          "name": "stdout",
          "text": [
            "2025-05-13 12:13:37,822 INFO sqlalchemy.engine.Engine INSERT INTO orders (user_id) VALUES (?)\n"
          ]
        },
        {
          "output_type": "stream",
          "name": "stderr",
          "text": [
            "INFO:sqlalchemy.engine.Engine:INSERT INTO orders (user_id) VALUES (?)\n"
          ]
        },
        {
          "output_type": "stream",
          "name": "stdout",
          "text": [
            "2025-05-13 12:13:37,823 INFO sqlalchemy.engine.Engine [cached since 0.04985s ago] (3,)\n"
          ]
        },
        {
          "output_type": "stream",
          "name": "stderr",
          "text": [
            "INFO:sqlalchemy.engine.Engine:[cached since 0.04985s ago] (3,)\n"
          ]
        },
        {
          "output_type": "stream",
          "name": "stdout",
          "text": [
            "2025-05-13 12:13:37,827 INFO sqlalchemy.engine.Engine COMMIT\n"
          ]
        },
        {
          "output_type": "stream",
          "name": "stderr",
          "text": [
            "INFO:sqlalchemy.engine.Engine:COMMIT\n"
          ]
        },
        {
          "output_type": "stream",
          "name": "stdout",
          "text": [
            "2025-05-13 12:13:37,839 INFO sqlalchemy.engine.Engine BEGIN (implicit)\n"
          ]
        },
        {
          "output_type": "stream",
          "name": "stderr",
          "text": [
            "INFO:sqlalchemy.engine.Engine:BEGIN (implicit)\n"
          ]
        },
        {
          "output_type": "stream",
          "name": "stdout",
          "text": [
            "2025-05-13 12:13:37,842 INFO sqlalchemy.engine.Engine SELECT orders.id AS orders_id, orders.user_id AS orders_user_id \n",
            "FROM orders \n",
            "WHERE orders.id = ?\n"
          ]
        },
        {
          "output_type": "stream",
          "name": "stderr",
          "text": [
            "INFO:sqlalchemy.engine.Engine:SELECT orders.id AS orders_id, orders.user_id AS orders_user_id \n",
            "FROM orders \n",
            "WHERE orders.id = ?\n"
          ]
        },
        {
          "output_type": "stream",
          "name": "stdout",
          "text": [
            "2025-05-13 12:13:37,843 INFO sqlalchemy.engine.Engine [cached since 0.05173s ago] (3,)\n"
          ]
        },
        {
          "output_type": "stream",
          "name": "stderr",
          "text": [
            "INFO:sqlalchemy.engine.Engine:[cached since 0.05173s ago] (3,)\n"
          ]
        },
        {
          "output_type": "stream",
          "name": "stdout",
          "text": [
            "2025-05-13 12:13:37,847 INFO sqlalchemy.engine.Engine INSERT INTO orders (user_id) VALUES (?)\n"
          ]
        },
        {
          "output_type": "stream",
          "name": "stderr",
          "text": [
            "INFO:sqlalchemy.engine.Engine:INSERT INTO orders (user_id) VALUES (?)\n"
          ]
        },
        {
          "output_type": "stream",
          "name": "stdout",
          "text": [
            "2025-05-13 12:13:37,848 INFO sqlalchemy.engine.Engine [cached since 0.075s ago] (4,)\n"
          ]
        },
        {
          "output_type": "stream",
          "name": "stderr",
          "text": [
            "INFO:sqlalchemy.engine.Engine:[cached since 0.075s ago] (4,)\n"
          ]
        },
        {
          "output_type": "stream",
          "name": "stdout",
          "text": [
            "2025-05-13 12:13:37,852 INFO sqlalchemy.engine.Engine COMMIT\n"
          ]
        },
        {
          "output_type": "stream",
          "name": "stderr",
          "text": [
            "INFO:sqlalchemy.engine.Engine:COMMIT\n"
          ]
        },
        {
          "output_type": "stream",
          "name": "stdout",
          "text": [
            "2025-05-13 12:13:37,862 INFO sqlalchemy.engine.Engine BEGIN (implicit)\n"
          ]
        },
        {
          "output_type": "stream",
          "name": "stderr",
          "text": [
            "INFO:sqlalchemy.engine.Engine:BEGIN (implicit)\n"
          ]
        },
        {
          "output_type": "stream",
          "name": "stdout",
          "text": [
            "2025-05-13 12:13:37,864 INFO sqlalchemy.engine.Engine SELECT orders.id AS orders_id, orders.user_id AS orders_user_id \n",
            "FROM orders \n",
            "WHERE orders.id = ?\n"
          ]
        },
        {
          "output_type": "stream",
          "name": "stderr",
          "text": [
            "INFO:sqlalchemy.engine.Engine:SELECT orders.id AS orders_id, orders.user_id AS orders_user_id \n",
            "FROM orders \n",
            "WHERE orders.id = ?\n"
          ]
        },
        {
          "output_type": "stream",
          "name": "stdout",
          "text": [
            "2025-05-13 12:13:37,865 INFO sqlalchemy.engine.Engine [cached since 0.07385s ago] (4,)\n"
          ]
        },
        {
          "output_type": "stream",
          "name": "stderr",
          "text": [
            "INFO:sqlalchemy.engine.Engine:[cached since 0.07385s ago] (4,)\n"
          ]
        },
        {
          "output_type": "stream",
          "name": "stdout",
          "text": [
            "2025-05-13 12:13:37,869 INFO sqlalchemy.engine.Engine INSERT INTO orders (user_id) VALUES (?)\n"
          ]
        },
        {
          "output_type": "stream",
          "name": "stderr",
          "text": [
            "INFO:sqlalchemy.engine.Engine:INSERT INTO orders (user_id) VALUES (?)\n"
          ]
        },
        {
          "output_type": "stream",
          "name": "stdout",
          "text": [
            "2025-05-13 12:13:37,870 INFO sqlalchemy.engine.Engine [cached since 0.0971s ago] (5,)\n"
          ]
        },
        {
          "output_type": "stream",
          "name": "stderr",
          "text": [
            "INFO:sqlalchemy.engine.Engine:[cached since 0.0971s ago] (5,)\n"
          ]
        },
        {
          "output_type": "stream",
          "name": "stdout",
          "text": [
            "2025-05-13 12:13:37,874 INFO sqlalchemy.engine.Engine COMMIT\n"
          ]
        },
        {
          "output_type": "stream",
          "name": "stderr",
          "text": [
            "INFO:sqlalchemy.engine.Engine:COMMIT\n"
          ]
        },
        {
          "output_type": "stream",
          "name": "stdout",
          "text": [
            "2025-05-13 12:13:37,882 INFO sqlalchemy.engine.Engine BEGIN (implicit)\n"
          ]
        },
        {
          "output_type": "stream",
          "name": "stderr",
          "text": [
            "INFO:sqlalchemy.engine.Engine:BEGIN (implicit)\n"
          ]
        },
        {
          "output_type": "stream",
          "name": "stdout",
          "text": [
            "2025-05-13 12:13:37,884 INFO sqlalchemy.engine.Engine SELECT orders.id AS orders_id, orders.user_id AS orders_user_id \n",
            "FROM orders \n",
            "WHERE orders.id = ?\n"
          ]
        },
        {
          "output_type": "stream",
          "name": "stderr",
          "text": [
            "INFO:sqlalchemy.engine.Engine:SELECT orders.id AS orders_id, orders.user_id AS orders_user_id \n",
            "FROM orders \n",
            "WHERE orders.id = ?\n"
          ]
        },
        {
          "output_type": "stream",
          "name": "stdout",
          "text": [
            "2025-05-13 12:13:37,886 INFO sqlalchemy.engine.Engine [cached since 0.0944s ago] (5,)\n"
          ]
        },
        {
          "output_type": "stream",
          "name": "stderr",
          "text": [
            "INFO:sqlalchemy.engine.Engine:[cached since 0.0944s ago] (5,)\n"
          ]
        },
        {
          "output_type": "stream",
          "name": "stdout",
          "text": [
            "2025-05-13 12:13:37,889 INFO sqlalchemy.engine.Engine INSERT INTO orders (user_id) VALUES (?)\n"
          ]
        },
        {
          "output_type": "stream",
          "name": "stderr",
          "text": [
            "INFO:sqlalchemy.engine.Engine:INSERT INTO orders (user_id) VALUES (?)\n"
          ]
        },
        {
          "output_type": "stream",
          "name": "stdout",
          "text": [
            "2025-05-13 12:13:37,891 INFO sqlalchemy.engine.Engine [cached since 0.1177s ago] (6,)\n"
          ]
        },
        {
          "output_type": "stream",
          "name": "stderr",
          "text": [
            "INFO:sqlalchemy.engine.Engine:[cached since 0.1177s ago] (6,)\n"
          ]
        },
        {
          "output_type": "stream",
          "name": "stdout",
          "text": [
            "2025-05-13 12:13:37,894 INFO sqlalchemy.engine.Engine COMMIT\n"
          ]
        },
        {
          "output_type": "stream",
          "name": "stderr",
          "text": [
            "INFO:sqlalchemy.engine.Engine:COMMIT\n"
          ]
        },
        {
          "output_type": "stream",
          "name": "stdout",
          "text": [
            "2025-05-13 12:13:37,904 INFO sqlalchemy.engine.Engine BEGIN (implicit)\n"
          ]
        },
        {
          "output_type": "stream",
          "name": "stderr",
          "text": [
            "INFO:sqlalchemy.engine.Engine:BEGIN (implicit)\n"
          ]
        },
        {
          "output_type": "stream",
          "name": "stdout",
          "text": [
            "2025-05-13 12:13:37,906 INFO sqlalchemy.engine.Engine SELECT orders.id AS orders_id, orders.user_id AS orders_user_id \n",
            "FROM orders \n",
            "WHERE orders.id = ?\n"
          ]
        },
        {
          "output_type": "stream",
          "name": "stderr",
          "text": [
            "INFO:sqlalchemy.engine.Engine:SELECT orders.id AS orders_id, orders.user_id AS orders_user_id \n",
            "FROM orders \n",
            "WHERE orders.id = ?\n"
          ]
        },
        {
          "output_type": "stream",
          "name": "stdout",
          "text": [
            "2025-05-13 12:13:37,908 INFO sqlalchemy.engine.Engine [cached since 0.1161s ago] (6,)\n"
          ]
        },
        {
          "output_type": "stream",
          "name": "stderr",
          "text": [
            "INFO:sqlalchemy.engine.Engine:[cached since 0.1161s ago] (6,)\n"
          ]
        },
        {
          "output_type": "stream",
          "name": "stdout",
          "text": [
            "2025-05-13 12:13:37,911 INFO sqlalchemy.engine.Engine INSERT INTO orders (user_id) VALUES (?)\n"
          ]
        },
        {
          "output_type": "stream",
          "name": "stderr",
          "text": [
            "INFO:sqlalchemy.engine.Engine:INSERT INTO orders (user_id) VALUES (?)\n"
          ]
        },
        {
          "output_type": "stream",
          "name": "stdout",
          "text": [
            "2025-05-13 12:13:37,912 INFO sqlalchemy.engine.Engine [cached since 0.1393s ago] (7,)\n"
          ]
        },
        {
          "output_type": "stream",
          "name": "stderr",
          "text": [
            "INFO:sqlalchemy.engine.Engine:[cached since 0.1393s ago] (7,)\n"
          ]
        },
        {
          "output_type": "stream",
          "name": "stdout",
          "text": [
            "2025-05-13 12:13:37,915 INFO sqlalchemy.engine.Engine COMMIT\n"
          ]
        },
        {
          "output_type": "stream",
          "name": "stderr",
          "text": [
            "INFO:sqlalchemy.engine.Engine:COMMIT\n"
          ]
        },
        {
          "output_type": "stream",
          "name": "stdout",
          "text": [
            "2025-05-13 12:13:37,926 INFO sqlalchemy.engine.Engine BEGIN (implicit)\n"
          ]
        },
        {
          "output_type": "stream",
          "name": "stderr",
          "text": [
            "INFO:sqlalchemy.engine.Engine:BEGIN (implicit)\n"
          ]
        },
        {
          "output_type": "stream",
          "name": "stdout",
          "text": [
            "2025-05-13 12:13:37,928 INFO sqlalchemy.engine.Engine SELECT orders.id AS orders_id, orders.user_id AS orders_user_id \n",
            "FROM orders \n",
            "WHERE orders.id = ?\n"
          ]
        },
        {
          "output_type": "stream",
          "name": "stderr",
          "text": [
            "INFO:sqlalchemy.engine.Engine:SELECT orders.id AS orders_id, orders.user_id AS orders_user_id \n",
            "FROM orders \n",
            "WHERE orders.id = ?\n"
          ]
        },
        {
          "output_type": "stream",
          "name": "stdout",
          "text": [
            "2025-05-13 12:13:37,929 INFO sqlalchemy.engine.Engine [cached since 0.1376s ago] (7,)\n"
          ]
        },
        {
          "output_type": "stream",
          "name": "stderr",
          "text": [
            "INFO:sqlalchemy.engine.Engine:[cached since 0.1376s ago] (7,)\n"
          ]
        },
        {
          "output_type": "stream",
          "name": "stdout",
          "text": [
            "2025-05-13 12:13:37,932 INFO sqlalchemy.engine.Engine INSERT INTO orders (user_id) VALUES (?)\n"
          ]
        },
        {
          "output_type": "stream",
          "name": "stderr",
          "text": [
            "INFO:sqlalchemy.engine.Engine:INSERT INTO orders (user_id) VALUES (?)\n"
          ]
        },
        {
          "output_type": "stream",
          "name": "stdout",
          "text": [
            "2025-05-13 12:13:37,934 INFO sqlalchemy.engine.Engine [cached since 0.1608s ago] (8,)\n"
          ]
        },
        {
          "output_type": "stream",
          "name": "stderr",
          "text": [
            "INFO:sqlalchemy.engine.Engine:[cached since 0.1608s ago] (8,)\n"
          ]
        },
        {
          "output_type": "stream",
          "name": "stdout",
          "text": [
            "2025-05-13 12:13:37,936 INFO sqlalchemy.engine.Engine COMMIT\n"
          ]
        },
        {
          "output_type": "stream",
          "name": "stderr",
          "text": [
            "INFO:sqlalchemy.engine.Engine:COMMIT\n"
          ]
        },
        {
          "output_type": "stream",
          "name": "stdout",
          "text": [
            "2025-05-13 12:13:37,945 INFO sqlalchemy.engine.Engine BEGIN (implicit)\n"
          ]
        },
        {
          "output_type": "stream",
          "name": "stderr",
          "text": [
            "INFO:sqlalchemy.engine.Engine:BEGIN (implicit)\n"
          ]
        },
        {
          "output_type": "stream",
          "name": "stdout",
          "text": [
            "2025-05-13 12:13:37,948 INFO sqlalchemy.engine.Engine SELECT orders.id AS orders_id, orders.user_id AS orders_user_id \n",
            "FROM orders \n",
            "WHERE orders.id = ?\n"
          ]
        },
        {
          "output_type": "stream",
          "name": "stderr",
          "text": [
            "INFO:sqlalchemy.engine.Engine:SELECT orders.id AS orders_id, orders.user_id AS orders_user_id \n",
            "FROM orders \n",
            "WHERE orders.id = ?\n"
          ]
        },
        {
          "output_type": "stream",
          "name": "stdout",
          "text": [
            "2025-05-13 12:13:37,949 INFO sqlalchemy.engine.Engine [cached since 0.1578s ago] (8,)\n"
          ]
        },
        {
          "output_type": "stream",
          "name": "stderr",
          "text": [
            "INFO:sqlalchemy.engine.Engine:[cached since 0.1578s ago] (8,)\n"
          ]
        },
        {
          "output_type": "stream",
          "name": "stdout",
          "text": [
            "2025-05-13 12:13:37,952 INFO sqlalchemy.engine.Engine INSERT INTO orders (user_id) VALUES (?)\n"
          ]
        },
        {
          "output_type": "stream",
          "name": "stderr",
          "text": [
            "INFO:sqlalchemy.engine.Engine:INSERT INTO orders (user_id) VALUES (?)\n"
          ]
        },
        {
          "output_type": "stream",
          "name": "stdout",
          "text": [
            "2025-05-13 12:13:37,954 INFO sqlalchemy.engine.Engine [cached since 0.181s ago] (9,)\n"
          ]
        },
        {
          "output_type": "stream",
          "name": "stderr",
          "text": [
            "INFO:sqlalchemy.engine.Engine:[cached since 0.181s ago] (9,)\n"
          ]
        },
        {
          "output_type": "stream",
          "name": "stdout",
          "text": [
            "2025-05-13 12:13:37,956 INFO sqlalchemy.engine.Engine COMMIT\n"
          ]
        },
        {
          "output_type": "stream",
          "name": "stderr",
          "text": [
            "INFO:sqlalchemy.engine.Engine:COMMIT\n"
          ]
        },
        {
          "output_type": "stream",
          "name": "stdout",
          "text": [
            "2025-05-13 12:13:37,965 INFO sqlalchemy.engine.Engine BEGIN (implicit)\n"
          ]
        },
        {
          "output_type": "stream",
          "name": "stderr",
          "text": [
            "INFO:sqlalchemy.engine.Engine:BEGIN (implicit)\n"
          ]
        },
        {
          "output_type": "stream",
          "name": "stdout",
          "text": [
            "2025-05-13 12:13:37,967 INFO sqlalchemy.engine.Engine SELECT orders.id AS orders_id, orders.user_id AS orders_user_id \n",
            "FROM orders \n",
            "WHERE orders.id = ?\n"
          ]
        },
        {
          "output_type": "stream",
          "name": "stderr",
          "text": [
            "INFO:sqlalchemy.engine.Engine:SELECT orders.id AS orders_id, orders.user_id AS orders_user_id \n",
            "FROM orders \n",
            "WHERE orders.id = ?\n"
          ]
        },
        {
          "output_type": "stream",
          "name": "stdout",
          "text": [
            "2025-05-13 12:13:37,968 INFO sqlalchemy.engine.Engine [cached since 0.177s ago] (9,)\n"
          ]
        },
        {
          "output_type": "stream",
          "name": "stderr",
          "text": [
            "INFO:sqlalchemy.engine.Engine:[cached since 0.177s ago] (9,)\n"
          ]
        },
        {
          "output_type": "stream",
          "name": "stdout",
          "text": [
            "2025-05-13 12:13:37,971 INFO sqlalchemy.engine.Engine INSERT INTO orders (user_id) VALUES (?)\n"
          ]
        },
        {
          "output_type": "stream",
          "name": "stderr",
          "text": [
            "INFO:sqlalchemy.engine.Engine:INSERT INTO orders (user_id) VALUES (?)\n"
          ]
        },
        {
          "output_type": "stream",
          "name": "stdout",
          "text": [
            "2025-05-13 12:13:37,972 INFO sqlalchemy.engine.Engine [cached since 0.1993s ago] (10,)\n"
          ]
        },
        {
          "output_type": "stream",
          "name": "stderr",
          "text": [
            "INFO:sqlalchemy.engine.Engine:[cached since 0.1993s ago] (10,)\n"
          ]
        },
        {
          "output_type": "stream",
          "name": "stdout",
          "text": [
            "2025-05-13 12:13:37,976 INFO sqlalchemy.engine.Engine COMMIT\n"
          ]
        },
        {
          "output_type": "stream",
          "name": "stderr",
          "text": [
            "INFO:sqlalchemy.engine.Engine:COMMIT\n"
          ]
        },
        {
          "output_type": "stream",
          "name": "stdout",
          "text": [
            "2025-05-13 12:13:37,988 INFO sqlalchemy.engine.Engine BEGIN (implicit)\n"
          ]
        },
        {
          "output_type": "stream",
          "name": "stderr",
          "text": [
            "INFO:sqlalchemy.engine.Engine:BEGIN (implicit)\n"
          ]
        },
        {
          "output_type": "stream",
          "name": "stdout",
          "text": [
            "2025-05-13 12:13:37,990 INFO sqlalchemy.engine.Engine SELECT orders.id AS orders_id, orders.user_id AS orders_user_id \n",
            "FROM orders \n",
            "WHERE orders.id = ?\n"
          ]
        },
        {
          "output_type": "stream",
          "name": "stderr",
          "text": [
            "INFO:sqlalchemy.engine.Engine:SELECT orders.id AS orders_id, orders.user_id AS orders_user_id \n",
            "FROM orders \n",
            "WHERE orders.id = ?\n"
          ]
        },
        {
          "output_type": "stream",
          "name": "stdout",
          "text": [
            "2025-05-13 12:13:37,991 INFO sqlalchemy.engine.Engine [cached since 0.1999s ago] (10,)\n"
          ]
        },
        {
          "output_type": "stream",
          "name": "stderr",
          "text": [
            "INFO:sqlalchemy.engine.Engine:[cached since 0.1999s ago] (10,)\n"
          ]
        },
        {
          "output_type": "stream",
          "name": "stdout",
          "text": [
            "2025-05-13 12:13:37,996 INFO sqlalchemy.engine.Engine INSERT INTO \"Order_items\" (order_id, product_id, quantity) VALUES (?, ?, ?)\n"
          ]
        },
        {
          "output_type": "stream",
          "name": "stderr",
          "text": [
            "INFO:sqlalchemy.engine.Engine:INSERT INTO \"Order_items\" (order_id, product_id, quantity) VALUES (?, ?, ?)\n"
          ]
        },
        {
          "output_type": "stream",
          "name": "stdout",
          "text": [
            "2025-05-13 12:13:37,997 INFO sqlalchemy.engine.Engine [generated in 0.00172s] (1, 1, 2)\n"
          ]
        },
        {
          "output_type": "stream",
          "name": "stderr",
          "text": [
            "INFO:sqlalchemy.engine.Engine:[generated in 0.00172s] (1, 1, 2)\n"
          ]
        },
        {
          "output_type": "stream",
          "name": "stdout",
          "text": [
            "2025-05-13 12:13:38,004 INFO sqlalchemy.engine.Engine COMMIT\n"
          ]
        },
        {
          "output_type": "stream",
          "name": "stderr",
          "text": [
            "INFO:sqlalchemy.engine.Engine:COMMIT\n"
          ]
        },
        {
          "output_type": "stream",
          "name": "stdout",
          "text": [
            "2025-05-13 12:13:38,015 INFO sqlalchemy.engine.Engine BEGIN (implicit)\n"
          ]
        },
        {
          "output_type": "stream",
          "name": "stderr",
          "text": [
            "INFO:sqlalchemy.engine.Engine:BEGIN (implicit)\n"
          ]
        },
        {
          "output_type": "stream",
          "name": "stdout",
          "text": [
            "2025-05-13 12:13:38,018 INFO sqlalchemy.engine.Engine SELECT \"Order_items\".id AS \"Order_items_id\", \"Order_items\".order_id AS \"Order_items_order_id\", \"Order_items\".product_id AS \"Order_items_product_id\", \"Order_items\".quantity AS \"Order_items_quantity\" \n",
            "FROM \"Order_items\" \n",
            "WHERE \"Order_items\".id = ?\n"
          ]
        },
        {
          "output_type": "stream",
          "name": "stderr",
          "text": [
            "INFO:sqlalchemy.engine.Engine:SELECT \"Order_items\".id AS \"Order_items_id\", \"Order_items\".order_id AS \"Order_items_order_id\", \"Order_items\".product_id AS \"Order_items_product_id\", \"Order_items\".quantity AS \"Order_items_quantity\" \n",
            "FROM \"Order_items\" \n",
            "WHERE \"Order_items\".id = ?\n"
          ]
        },
        {
          "output_type": "stream",
          "name": "stdout",
          "text": [
            "2025-05-13 12:13:38,020 INFO sqlalchemy.engine.Engine [generated in 0.00173s] (1,)\n"
          ]
        },
        {
          "output_type": "stream",
          "name": "stderr",
          "text": [
            "INFO:sqlalchemy.engine.Engine:[generated in 0.00173s] (1,)\n"
          ]
        },
        {
          "output_type": "stream",
          "name": "stdout",
          "text": [
            "2025-05-13 12:13:38,024 INFO sqlalchemy.engine.Engine INSERT INTO \"Order_items\" (order_id, product_id, quantity) VALUES (?, ?, ?)\n"
          ]
        },
        {
          "output_type": "stream",
          "name": "stderr",
          "text": [
            "INFO:sqlalchemy.engine.Engine:INSERT INTO \"Order_items\" (order_id, product_id, quantity) VALUES (?, ?, ?)\n"
          ]
        },
        {
          "output_type": "stream",
          "name": "stdout",
          "text": [
            "2025-05-13 12:13:38,025 INFO sqlalchemy.engine.Engine [cached since 0.02932s ago] (1, 2, 1)\n"
          ]
        },
        {
          "output_type": "stream",
          "name": "stderr",
          "text": [
            "INFO:sqlalchemy.engine.Engine:[cached since 0.02932s ago] (1, 2, 1)\n"
          ]
        },
        {
          "output_type": "stream",
          "name": "stdout",
          "text": [
            "2025-05-13 12:13:38,027 INFO sqlalchemy.engine.Engine COMMIT\n"
          ]
        },
        {
          "output_type": "stream",
          "name": "stderr",
          "text": [
            "INFO:sqlalchemy.engine.Engine:COMMIT\n"
          ]
        },
        {
          "output_type": "stream",
          "name": "stdout",
          "text": [
            "2025-05-13 12:13:38,036 INFO sqlalchemy.engine.Engine BEGIN (implicit)\n"
          ]
        },
        {
          "output_type": "stream",
          "name": "stderr",
          "text": [
            "INFO:sqlalchemy.engine.Engine:BEGIN (implicit)\n"
          ]
        },
        {
          "output_type": "stream",
          "name": "stdout",
          "text": [
            "2025-05-13 12:13:38,038 INFO sqlalchemy.engine.Engine SELECT \"Order_items\".id AS \"Order_items_id\", \"Order_items\".order_id AS \"Order_items_order_id\", \"Order_items\".product_id AS \"Order_items_product_id\", \"Order_items\".quantity AS \"Order_items_quantity\" \n",
            "FROM \"Order_items\" \n",
            "WHERE \"Order_items\".id = ?\n"
          ]
        },
        {
          "output_type": "stream",
          "name": "stderr",
          "text": [
            "INFO:sqlalchemy.engine.Engine:SELECT \"Order_items\".id AS \"Order_items_id\", \"Order_items\".order_id AS \"Order_items_order_id\", \"Order_items\".product_id AS \"Order_items_product_id\", \"Order_items\".quantity AS \"Order_items_quantity\" \n",
            "FROM \"Order_items\" \n",
            "WHERE \"Order_items\".id = ?\n"
          ]
        },
        {
          "output_type": "stream",
          "name": "stdout",
          "text": [
            "2025-05-13 12:13:38,039 INFO sqlalchemy.engine.Engine [cached since 0.0211s ago] (2,)\n"
          ]
        },
        {
          "output_type": "stream",
          "name": "stderr",
          "text": [
            "INFO:sqlalchemy.engine.Engine:[cached since 0.0211s ago] (2,)\n"
          ]
        },
        {
          "output_type": "stream",
          "name": "stdout",
          "text": [
            "2025-05-13 12:13:38,043 INFO sqlalchemy.engine.Engine INSERT INTO \"Order_items\" (order_id, product_id, quantity) VALUES (?, ?, ?)\n"
          ]
        },
        {
          "output_type": "stream",
          "name": "stderr",
          "text": [
            "INFO:sqlalchemy.engine.Engine:INSERT INTO \"Order_items\" (order_id, product_id, quantity) VALUES (?, ?, ?)\n"
          ]
        },
        {
          "output_type": "stream",
          "name": "stdout",
          "text": [
            "2025-05-13 12:13:38,044 INFO sqlalchemy.engine.Engine [cached since 0.04858s ago] (2, 3, 1)\n"
          ]
        },
        {
          "output_type": "stream",
          "name": "stderr",
          "text": [
            "INFO:sqlalchemy.engine.Engine:[cached since 0.04858s ago] (2, 3, 1)\n"
          ]
        },
        {
          "output_type": "stream",
          "name": "stdout",
          "text": [
            "2025-05-13 12:13:38,046 INFO sqlalchemy.engine.Engine COMMIT\n"
          ]
        },
        {
          "output_type": "stream",
          "name": "stderr",
          "text": [
            "INFO:sqlalchemy.engine.Engine:COMMIT\n"
          ]
        },
        {
          "output_type": "stream",
          "name": "stdout",
          "text": [
            "2025-05-13 12:13:38,056 INFO sqlalchemy.engine.Engine BEGIN (implicit)\n"
          ]
        },
        {
          "output_type": "stream",
          "name": "stderr",
          "text": [
            "INFO:sqlalchemy.engine.Engine:BEGIN (implicit)\n"
          ]
        },
        {
          "output_type": "stream",
          "name": "stdout",
          "text": [
            "2025-05-13 12:13:38,058 INFO sqlalchemy.engine.Engine SELECT \"Order_items\".id AS \"Order_items_id\", \"Order_items\".order_id AS \"Order_items_order_id\", \"Order_items\".product_id AS \"Order_items_product_id\", \"Order_items\".quantity AS \"Order_items_quantity\" \n",
            "FROM \"Order_items\" \n",
            "WHERE \"Order_items\".id = ?\n"
          ]
        },
        {
          "output_type": "stream",
          "name": "stderr",
          "text": [
            "INFO:sqlalchemy.engine.Engine:SELECT \"Order_items\".id AS \"Order_items_id\", \"Order_items\".order_id AS \"Order_items_order_id\", \"Order_items\".product_id AS \"Order_items_product_id\", \"Order_items\".quantity AS \"Order_items_quantity\" \n",
            "FROM \"Order_items\" \n",
            "WHERE \"Order_items\".id = ?\n"
          ]
        },
        {
          "output_type": "stream",
          "name": "stdout",
          "text": [
            "2025-05-13 12:13:38,059 INFO sqlalchemy.engine.Engine [cached since 0.04083s ago] (3,)\n"
          ]
        },
        {
          "output_type": "stream",
          "name": "stderr",
          "text": [
            "INFO:sqlalchemy.engine.Engine:[cached since 0.04083s ago] (3,)\n"
          ]
        },
        {
          "output_type": "stream",
          "name": "stdout",
          "text": [
            "2025-05-13 12:13:38,062 INFO sqlalchemy.engine.Engine INSERT INTO \"Order_items\" (order_id, product_id, quantity) VALUES (?, ?, ?)\n"
          ]
        },
        {
          "output_type": "stream",
          "name": "stderr",
          "text": [
            "INFO:sqlalchemy.engine.Engine:INSERT INTO \"Order_items\" (order_id, product_id, quantity) VALUES (?, ?, ?)\n"
          ]
        },
        {
          "output_type": "stream",
          "name": "stdout",
          "text": [
            "2025-05-13 12:13:38,064 INFO sqlalchemy.engine.Engine [cached since 0.06799s ago] (2, 4, 2)\n"
          ]
        },
        {
          "output_type": "stream",
          "name": "stderr",
          "text": [
            "INFO:sqlalchemy.engine.Engine:[cached since 0.06799s ago] (2, 4, 2)\n"
          ]
        },
        {
          "output_type": "stream",
          "name": "stdout",
          "text": [
            "2025-05-13 12:13:38,067 INFO sqlalchemy.engine.Engine COMMIT\n"
          ]
        },
        {
          "output_type": "stream",
          "name": "stderr",
          "text": [
            "INFO:sqlalchemy.engine.Engine:COMMIT\n"
          ]
        },
        {
          "output_type": "stream",
          "name": "stdout",
          "text": [
            "2025-05-13 12:13:38,076 INFO sqlalchemy.engine.Engine BEGIN (implicit)\n"
          ]
        },
        {
          "output_type": "stream",
          "name": "stderr",
          "text": [
            "INFO:sqlalchemy.engine.Engine:BEGIN (implicit)\n"
          ]
        },
        {
          "output_type": "stream",
          "name": "stdout",
          "text": [
            "2025-05-13 12:13:38,078 INFO sqlalchemy.engine.Engine SELECT \"Order_items\".id AS \"Order_items_id\", \"Order_items\".order_id AS \"Order_items_order_id\", \"Order_items\".product_id AS \"Order_items_product_id\", \"Order_items\".quantity AS \"Order_items_quantity\" \n",
            "FROM \"Order_items\" \n",
            "WHERE \"Order_items\".id = ?\n"
          ]
        },
        {
          "output_type": "stream",
          "name": "stderr",
          "text": [
            "INFO:sqlalchemy.engine.Engine:SELECT \"Order_items\".id AS \"Order_items_id\", \"Order_items\".order_id AS \"Order_items_order_id\", \"Order_items\".product_id AS \"Order_items_product_id\", \"Order_items\".quantity AS \"Order_items_quantity\" \n",
            "FROM \"Order_items\" \n",
            "WHERE \"Order_items\".id = ?\n"
          ]
        },
        {
          "output_type": "stream",
          "name": "stdout",
          "text": [
            "2025-05-13 12:13:38,079 INFO sqlalchemy.engine.Engine [cached since 0.06105s ago] (4,)\n"
          ]
        },
        {
          "output_type": "stream",
          "name": "stderr",
          "text": [
            "INFO:sqlalchemy.engine.Engine:[cached since 0.06105s ago] (4,)\n"
          ]
        },
        {
          "output_type": "stream",
          "name": "stdout",
          "text": [
            "2025-05-13 12:13:38,082 INFO sqlalchemy.engine.Engine INSERT INTO \"Order_items\" (order_id, product_id, quantity) VALUES (?, ?, ?)\n"
          ]
        },
        {
          "output_type": "stream",
          "name": "stderr",
          "text": [
            "INFO:sqlalchemy.engine.Engine:INSERT INTO \"Order_items\" (order_id, product_id, quantity) VALUES (?, ?, ?)\n"
          ]
        },
        {
          "output_type": "stream",
          "name": "stdout",
          "text": [
            "2025-05-13 12:13:38,085 INFO sqlalchemy.engine.Engine [cached since 0.08902s ago] (3, 5, 3)\n"
          ]
        },
        {
          "output_type": "stream",
          "name": "stderr",
          "text": [
            "INFO:sqlalchemy.engine.Engine:[cached since 0.08902s ago] (3, 5, 3)\n"
          ]
        },
        {
          "output_type": "stream",
          "name": "stdout",
          "text": [
            "2025-05-13 12:13:38,087 INFO sqlalchemy.engine.Engine COMMIT\n"
          ]
        },
        {
          "output_type": "stream",
          "name": "stderr",
          "text": [
            "INFO:sqlalchemy.engine.Engine:COMMIT\n"
          ]
        },
        {
          "output_type": "stream",
          "name": "stdout",
          "text": [
            "2025-05-13 12:13:38,096 INFO sqlalchemy.engine.Engine BEGIN (implicit)\n"
          ]
        },
        {
          "output_type": "stream",
          "name": "stderr",
          "text": [
            "INFO:sqlalchemy.engine.Engine:BEGIN (implicit)\n"
          ]
        },
        {
          "output_type": "stream",
          "name": "stdout",
          "text": [
            "2025-05-13 12:13:38,099 INFO sqlalchemy.engine.Engine SELECT \"Order_items\".id AS \"Order_items_id\", \"Order_items\".order_id AS \"Order_items_order_id\", \"Order_items\".product_id AS \"Order_items_product_id\", \"Order_items\".quantity AS \"Order_items_quantity\" \n",
            "FROM \"Order_items\" \n",
            "WHERE \"Order_items\".id = ?\n"
          ]
        },
        {
          "output_type": "stream",
          "name": "stderr",
          "text": [
            "INFO:sqlalchemy.engine.Engine:SELECT \"Order_items\".id AS \"Order_items_id\", \"Order_items\".order_id AS \"Order_items_order_id\", \"Order_items\".product_id AS \"Order_items_product_id\", \"Order_items\".quantity AS \"Order_items_quantity\" \n",
            "FROM \"Order_items\" \n",
            "WHERE \"Order_items\".id = ?\n"
          ]
        },
        {
          "output_type": "stream",
          "name": "stdout",
          "text": [
            "2025-05-13 12:13:38,100 INFO sqlalchemy.engine.Engine [cached since 0.08213s ago] (5,)\n"
          ]
        },
        {
          "output_type": "stream",
          "name": "stderr",
          "text": [
            "INFO:sqlalchemy.engine.Engine:[cached since 0.08213s ago] (5,)\n"
          ]
        },
        {
          "output_type": "stream",
          "name": "stdout",
          "text": [
            "2025-05-13 12:13:38,103 INFO sqlalchemy.engine.Engine INSERT INTO \"Order_items\" (order_id, product_id, quantity) VALUES (?, ?, ?)\n"
          ]
        },
        {
          "output_type": "stream",
          "name": "stderr",
          "text": [
            "INFO:sqlalchemy.engine.Engine:INSERT INTO \"Order_items\" (order_id, product_id, quantity) VALUES (?, ?, ?)\n"
          ]
        },
        {
          "output_type": "stream",
          "name": "stdout",
          "text": [
            "2025-05-13 12:13:38,105 INFO sqlalchemy.engine.Engine [cached since 0.1096s ago] (3, 6, 1)\n"
          ]
        },
        {
          "output_type": "stream",
          "name": "stderr",
          "text": [
            "INFO:sqlalchemy.engine.Engine:[cached since 0.1096s ago] (3, 6, 1)\n"
          ]
        },
        {
          "output_type": "stream",
          "name": "stdout",
          "text": [
            "2025-05-13 12:13:38,109 INFO sqlalchemy.engine.Engine COMMIT\n"
          ]
        },
        {
          "output_type": "stream",
          "name": "stderr",
          "text": [
            "INFO:sqlalchemy.engine.Engine:COMMIT\n"
          ]
        },
        {
          "output_type": "stream",
          "name": "stdout",
          "text": [
            "2025-05-13 12:13:38,121 INFO sqlalchemy.engine.Engine BEGIN (implicit)\n"
          ]
        },
        {
          "output_type": "stream",
          "name": "stderr",
          "text": [
            "INFO:sqlalchemy.engine.Engine:BEGIN (implicit)\n"
          ]
        },
        {
          "output_type": "stream",
          "name": "stdout",
          "text": [
            "2025-05-13 12:13:38,123 INFO sqlalchemy.engine.Engine SELECT \"Order_items\".id AS \"Order_items_id\", \"Order_items\".order_id AS \"Order_items_order_id\", \"Order_items\".product_id AS \"Order_items_product_id\", \"Order_items\".quantity AS \"Order_items_quantity\" \n",
            "FROM \"Order_items\" \n",
            "WHERE \"Order_items\".id = ?\n"
          ]
        },
        {
          "output_type": "stream",
          "name": "stderr",
          "text": [
            "INFO:sqlalchemy.engine.Engine:SELECT \"Order_items\".id AS \"Order_items_id\", \"Order_items\".order_id AS \"Order_items_order_id\", \"Order_items\".product_id AS \"Order_items_product_id\", \"Order_items\".quantity AS \"Order_items_quantity\" \n",
            "FROM \"Order_items\" \n",
            "WHERE \"Order_items\".id = ?\n"
          ]
        },
        {
          "output_type": "stream",
          "name": "stdout",
          "text": [
            "2025-05-13 12:13:38,125 INFO sqlalchemy.engine.Engine [cached since 0.1066s ago] (6,)\n"
          ]
        },
        {
          "output_type": "stream",
          "name": "stderr",
          "text": [
            "INFO:sqlalchemy.engine.Engine:[cached since 0.1066s ago] (6,)\n"
          ]
        },
        {
          "output_type": "stream",
          "name": "stdout",
          "text": [
            "2025-05-13 12:13:38,128 INFO sqlalchemy.engine.Engine INSERT INTO \"Order_items\" (order_id, product_id, quantity) VALUES (?, ?, ?)\n"
          ]
        },
        {
          "output_type": "stream",
          "name": "stderr",
          "text": [
            "INFO:sqlalchemy.engine.Engine:INSERT INTO \"Order_items\" (order_id, product_id, quantity) VALUES (?, ?, ?)\n"
          ]
        },
        {
          "output_type": "stream",
          "name": "stdout",
          "text": [
            "2025-05-13 12:13:38,130 INFO sqlalchemy.engine.Engine [cached since 0.1345s ago] (4, 7, 2)\n"
          ]
        },
        {
          "output_type": "stream",
          "name": "stderr",
          "text": [
            "INFO:sqlalchemy.engine.Engine:[cached since 0.1345s ago] (4, 7, 2)\n"
          ]
        },
        {
          "output_type": "stream",
          "name": "stdout",
          "text": [
            "2025-05-13 12:13:38,133 INFO sqlalchemy.engine.Engine COMMIT\n"
          ]
        },
        {
          "output_type": "stream",
          "name": "stderr",
          "text": [
            "INFO:sqlalchemy.engine.Engine:COMMIT\n"
          ]
        },
        {
          "output_type": "stream",
          "name": "stdout",
          "text": [
            "2025-05-13 12:13:38,144 INFO sqlalchemy.engine.Engine BEGIN (implicit)\n"
          ]
        },
        {
          "output_type": "stream",
          "name": "stderr",
          "text": [
            "INFO:sqlalchemy.engine.Engine:BEGIN (implicit)\n"
          ]
        },
        {
          "output_type": "stream",
          "name": "stdout",
          "text": [
            "2025-05-13 12:13:38,146 INFO sqlalchemy.engine.Engine SELECT \"Order_items\".id AS \"Order_items_id\", \"Order_items\".order_id AS \"Order_items_order_id\", \"Order_items\".product_id AS \"Order_items_product_id\", \"Order_items\".quantity AS \"Order_items_quantity\" \n",
            "FROM \"Order_items\" \n",
            "WHERE \"Order_items\".id = ?\n"
          ]
        },
        {
          "output_type": "stream",
          "name": "stderr",
          "text": [
            "INFO:sqlalchemy.engine.Engine:SELECT \"Order_items\".id AS \"Order_items_id\", \"Order_items\".order_id AS \"Order_items_order_id\", \"Order_items\".product_id AS \"Order_items_product_id\", \"Order_items\".quantity AS \"Order_items_quantity\" \n",
            "FROM \"Order_items\" \n",
            "WHERE \"Order_items\".id = ?\n"
          ]
        },
        {
          "output_type": "stream",
          "name": "stdout",
          "text": [
            "2025-05-13 12:13:38,148 INFO sqlalchemy.engine.Engine [cached since 0.1295s ago] (7,)\n"
          ]
        },
        {
          "output_type": "stream",
          "name": "stderr",
          "text": [
            "INFO:sqlalchemy.engine.Engine:[cached since 0.1295s ago] (7,)\n"
          ]
        },
        {
          "output_type": "stream",
          "name": "stdout",
          "text": [
            "2025-05-13 12:13:38,151 INFO sqlalchemy.engine.Engine INSERT INTO \"Order_items\" (order_id, product_id, quantity) VALUES (?, ?, ?)\n"
          ]
        },
        {
          "output_type": "stream",
          "name": "stderr",
          "text": [
            "INFO:sqlalchemy.engine.Engine:INSERT INTO \"Order_items\" (order_id, product_id, quantity) VALUES (?, ?, ?)\n"
          ]
        },
        {
          "output_type": "stream",
          "name": "stdout",
          "text": [
            "2025-05-13 12:13:38,153 INFO sqlalchemy.engine.Engine [cached since 0.157s ago] (4, 8, 1)\n"
          ]
        },
        {
          "output_type": "stream",
          "name": "stderr",
          "text": [
            "INFO:sqlalchemy.engine.Engine:[cached since 0.157s ago] (4, 8, 1)\n"
          ]
        },
        {
          "output_type": "stream",
          "name": "stdout",
          "text": [
            "2025-05-13 12:13:38,155 INFO sqlalchemy.engine.Engine COMMIT\n"
          ]
        },
        {
          "output_type": "stream",
          "name": "stderr",
          "text": [
            "INFO:sqlalchemy.engine.Engine:COMMIT\n"
          ]
        },
        {
          "output_type": "stream",
          "name": "stdout",
          "text": [
            "2025-05-13 12:13:38,166 INFO sqlalchemy.engine.Engine BEGIN (implicit)\n"
          ]
        },
        {
          "output_type": "stream",
          "name": "stderr",
          "text": [
            "INFO:sqlalchemy.engine.Engine:BEGIN (implicit)\n"
          ]
        },
        {
          "output_type": "stream",
          "name": "stdout",
          "text": [
            "2025-05-13 12:13:38,168 INFO sqlalchemy.engine.Engine SELECT \"Order_items\".id AS \"Order_items_id\", \"Order_items\".order_id AS \"Order_items_order_id\", \"Order_items\".product_id AS \"Order_items_product_id\", \"Order_items\".quantity AS \"Order_items_quantity\" \n",
            "FROM \"Order_items\" \n",
            "WHERE \"Order_items\".id = ?\n"
          ]
        },
        {
          "output_type": "stream",
          "name": "stderr",
          "text": [
            "INFO:sqlalchemy.engine.Engine:SELECT \"Order_items\".id AS \"Order_items_id\", \"Order_items\".order_id AS \"Order_items_order_id\", \"Order_items\".product_id AS \"Order_items_product_id\", \"Order_items\".quantity AS \"Order_items_quantity\" \n",
            "FROM \"Order_items\" \n",
            "WHERE \"Order_items\".id = ?\n"
          ]
        },
        {
          "output_type": "stream",
          "name": "stdout",
          "text": [
            "2025-05-13 12:13:38,170 INFO sqlalchemy.engine.Engine [cached since 0.1514s ago] (8,)\n"
          ]
        },
        {
          "output_type": "stream",
          "name": "stderr",
          "text": [
            "INFO:sqlalchemy.engine.Engine:[cached since 0.1514s ago] (8,)\n"
          ]
        },
        {
          "output_type": "stream",
          "name": "stdout",
          "text": [
            "2025-05-13 12:13:38,173 INFO sqlalchemy.engine.Engine INSERT INTO \"Order_items\" (order_id, product_id, quantity) VALUES (?, ?, ?)\n"
          ]
        },
        {
          "output_type": "stream",
          "name": "stderr",
          "text": [
            "INFO:sqlalchemy.engine.Engine:INSERT INTO \"Order_items\" (order_id, product_id, quantity) VALUES (?, ?, ?)\n"
          ]
        },
        {
          "output_type": "stream",
          "name": "stdout",
          "text": [
            "2025-05-13 12:13:38,175 INFO sqlalchemy.engine.Engine [cached since 0.1794s ago] (5, 9, 1)\n"
          ]
        },
        {
          "output_type": "stream",
          "name": "stderr",
          "text": [
            "INFO:sqlalchemy.engine.Engine:[cached since 0.1794s ago] (5, 9, 1)\n"
          ]
        },
        {
          "output_type": "stream",
          "name": "stdout",
          "text": [
            "2025-05-13 12:13:38,177 INFO sqlalchemy.engine.Engine COMMIT\n"
          ]
        },
        {
          "output_type": "stream",
          "name": "stderr",
          "text": [
            "INFO:sqlalchemy.engine.Engine:COMMIT\n"
          ]
        },
        {
          "output_type": "stream",
          "name": "stdout",
          "text": [
            "2025-05-13 12:13:38,187 INFO sqlalchemy.engine.Engine BEGIN (implicit)\n"
          ]
        },
        {
          "output_type": "stream",
          "name": "stderr",
          "text": [
            "INFO:sqlalchemy.engine.Engine:BEGIN (implicit)\n"
          ]
        },
        {
          "output_type": "stream",
          "name": "stdout",
          "text": [
            "2025-05-13 12:13:38,189 INFO sqlalchemy.engine.Engine SELECT \"Order_items\".id AS \"Order_items_id\", \"Order_items\".order_id AS \"Order_items_order_id\", \"Order_items\".product_id AS \"Order_items_product_id\", \"Order_items\".quantity AS \"Order_items_quantity\" \n",
            "FROM \"Order_items\" \n",
            "WHERE \"Order_items\".id = ?\n"
          ]
        },
        {
          "output_type": "stream",
          "name": "stderr",
          "text": [
            "INFO:sqlalchemy.engine.Engine:SELECT \"Order_items\".id AS \"Order_items_id\", \"Order_items\".order_id AS \"Order_items_order_id\", \"Order_items\".product_id AS \"Order_items_product_id\", \"Order_items\".quantity AS \"Order_items_quantity\" \n",
            "FROM \"Order_items\" \n",
            "WHERE \"Order_items\".id = ?\n"
          ]
        },
        {
          "output_type": "stream",
          "name": "stdout",
          "text": [
            "2025-05-13 12:13:38,190 INFO sqlalchemy.engine.Engine [cached since 0.172s ago] (9,)\n"
          ]
        },
        {
          "output_type": "stream",
          "name": "stderr",
          "text": [
            "INFO:sqlalchemy.engine.Engine:[cached since 0.172s ago] (9,)\n"
          ]
        },
        {
          "output_type": "stream",
          "name": "stdout",
          "text": [
            "2025-05-13 12:13:38,194 INFO sqlalchemy.engine.Engine INSERT INTO \"Order_items\" (order_id, product_id, quantity) VALUES (?, ?, ?)\n"
          ]
        },
        {
          "output_type": "stream",
          "name": "stderr",
          "text": [
            "INFO:sqlalchemy.engine.Engine:INSERT INTO \"Order_items\" (order_id, product_id, quantity) VALUES (?, ?, ?)\n"
          ]
        },
        {
          "output_type": "stream",
          "name": "stdout",
          "text": [
            "2025-05-13 12:13:38,195 INFO sqlalchemy.engine.Engine [cached since 0.1995s ago] (5, 10, 2)\n"
          ]
        },
        {
          "output_type": "stream",
          "name": "stderr",
          "text": [
            "INFO:sqlalchemy.engine.Engine:[cached since 0.1995s ago] (5, 10, 2)\n"
          ]
        },
        {
          "output_type": "stream",
          "name": "stdout",
          "text": [
            "2025-05-13 12:13:38,197 INFO sqlalchemy.engine.Engine COMMIT\n"
          ]
        },
        {
          "output_type": "stream",
          "name": "stderr",
          "text": [
            "INFO:sqlalchemy.engine.Engine:COMMIT\n"
          ]
        },
        {
          "output_type": "stream",
          "name": "stdout",
          "text": [
            "2025-05-13 12:13:38,207 INFO sqlalchemy.engine.Engine BEGIN (implicit)\n"
          ]
        },
        {
          "output_type": "stream",
          "name": "stderr",
          "text": [
            "INFO:sqlalchemy.engine.Engine:BEGIN (implicit)\n"
          ]
        },
        {
          "output_type": "stream",
          "name": "stdout",
          "text": [
            "2025-05-13 12:13:38,209 INFO sqlalchemy.engine.Engine SELECT \"Order_items\".id AS \"Order_items_id\", \"Order_items\".order_id AS \"Order_items_order_id\", \"Order_items\".product_id AS \"Order_items_product_id\", \"Order_items\".quantity AS \"Order_items_quantity\" \n",
            "FROM \"Order_items\" \n",
            "WHERE \"Order_items\".id = ?\n"
          ]
        },
        {
          "output_type": "stream",
          "name": "stderr",
          "text": [
            "INFO:sqlalchemy.engine.Engine:SELECT \"Order_items\".id AS \"Order_items_id\", \"Order_items\".order_id AS \"Order_items_order_id\", \"Order_items\".product_id AS \"Order_items_product_id\", \"Order_items\".quantity AS \"Order_items_quantity\" \n",
            "FROM \"Order_items\" \n",
            "WHERE \"Order_items\".id = ?\n"
          ]
        },
        {
          "output_type": "stream",
          "name": "stdout",
          "text": [
            "2025-05-13 12:13:38,210 INFO sqlalchemy.engine.Engine [cached since 0.1918s ago] (10,)\n"
          ]
        },
        {
          "output_type": "stream",
          "name": "stderr",
          "text": [
            "INFO:sqlalchemy.engine.Engine:[cached since 0.1918s ago] (10,)\n"
          ]
        },
        {
          "output_type": "stream",
          "name": "stdout",
          "text": [
            "2025-05-13 12:13:38,214 INFO sqlalchemy.engine.Engine INSERT INTO \"Order_items\" (order_id, product_id, quantity) VALUES (?, ?, ?)\n"
          ]
        },
        {
          "output_type": "stream",
          "name": "stderr",
          "text": [
            "INFO:sqlalchemy.engine.Engine:INSERT INTO \"Order_items\" (order_id, product_id, quantity) VALUES (?, ?, ?)\n"
          ]
        },
        {
          "output_type": "stream",
          "name": "stdout",
          "text": [
            "2025-05-13 12:13:38,215 INFO sqlalchemy.engine.Engine [cached since 0.2191s ago] (6, 1, 1)\n"
          ]
        },
        {
          "output_type": "stream",
          "name": "stderr",
          "text": [
            "INFO:sqlalchemy.engine.Engine:[cached since 0.2191s ago] (6, 1, 1)\n"
          ]
        },
        {
          "output_type": "stream",
          "name": "stdout",
          "text": [
            "2025-05-13 12:13:38,218 INFO sqlalchemy.engine.Engine COMMIT\n"
          ]
        },
        {
          "output_type": "stream",
          "name": "stderr",
          "text": [
            "INFO:sqlalchemy.engine.Engine:COMMIT\n"
          ]
        },
        {
          "output_type": "stream",
          "name": "stdout",
          "text": [
            "2025-05-13 12:13:38,227 INFO sqlalchemy.engine.Engine BEGIN (implicit)\n"
          ]
        },
        {
          "output_type": "stream",
          "name": "stderr",
          "text": [
            "INFO:sqlalchemy.engine.Engine:BEGIN (implicit)\n"
          ]
        },
        {
          "output_type": "stream",
          "name": "stdout",
          "text": [
            "2025-05-13 12:13:38,229 INFO sqlalchemy.engine.Engine SELECT \"Order_items\".id AS \"Order_items_id\", \"Order_items\".order_id AS \"Order_items_order_id\", \"Order_items\".product_id AS \"Order_items_product_id\", \"Order_items\".quantity AS \"Order_items_quantity\" \n",
            "FROM \"Order_items\" \n",
            "WHERE \"Order_items\".id = ?\n"
          ]
        },
        {
          "output_type": "stream",
          "name": "stderr",
          "text": [
            "INFO:sqlalchemy.engine.Engine:SELECT \"Order_items\".id AS \"Order_items_id\", \"Order_items\".order_id AS \"Order_items_order_id\", \"Order_items\".product_id AS \"Order_items_product_id\", \"Order_items\".quantity AS \"Order_items_quantity\" \n",
            "FROM \"Order_items\" \n",
            "WHERE \"Order_items\".id = ?\n"
          ]
        },
        {
          "output_type": "stream",
          "name": "stdout",
          "text": [
            "2025-05-13 12:13:38,230 INFO sqlalchemy.engine.Engine [cached since 0.212s ago] (11,)\n"
          ]
        },
        {
          "output_type": "stream",
          "name": "stderr",
          "text": [
            "INFO:sqlalchemy.engine.Engine:[cached since 0.212s ago] (11,)\n"
          ]
        },
        {
          "output_type": "stream",
          "name": "stdout",
          "text": [
            "2025-05-13 12:13:38,233 INFO sqlalchemy.engine.Engine INSERT INTO \"Order_items\" (order_id, product_id, quantity) VALUES (?, ?, ?)\n"
          ]
        },
        {
          "output_type": "stream",
          "name": "stderr",
          "text": [
            "INFO:sqlalchemy.engine.Engine:INSERT INTO \"Order_items\" (order_id, product_id, quantity) VALUES (?, ?, ?)\n"
          ]
        },
        {
          "output_type": "stream",
          "name": "stdout",
          "text": [
            "2025-05-13 12:13:38,235 INFO sqlalchemy.engine.Engine [cached since 0.2389s ago] (6, 2, 2)\n"
          ]
        },
        {
          "output_type": "stream",
          "name": "stderr",
          "text": [
            "INFO:sqlalchemy.engine.Engine:[cached since 0.2389s ago] (6, 2, 2)\n"
          ]
        },
        {
          "output_type": "stream",
          "name": "stdout",
          "text": [
            "2025-05-13 12:13:38,237 INFO sqlalchemy.engine.Engine COMMIT\n"
          ]
        },
        {
          "output_type": "stream",
          "name": "stderr",
          "text": [
            "INFO:sqlalchemy.engine.Engine:COMMIT\n"
          ]
        },
        {
          "output_type": "stream",
          "name": "stdout",
          "text": [
            "2025-05-13 12:13:38,246 INFO sqlalchemy.engine.Engine BEGIN (implicit)\n"
          ]
        },
        {
          "output_type": "stream",
          "name": "stderr",
          "text": [
            "INFO:sqlalchemy.engine.Engine:BEGIN (implicit)\n"
          ]
        },
        {
          "output_type": "stream",
          "name": "stdout",
          "text": [
            "2025-05-13 12:13:38,249 INFO sqlalchemy.engine.Engine SELECT \"Order_items\".id AS \"Order_items_id\", \"Order_items\".order_id AS \"Order_items_order_id\", \"Order_items\".product_id AS \"Order_items_product_id\", \"Order_items\".quantity AS \"Order_items_quantity\" \n",
            "FROM \"Order_items\" \n",
            "WHERE \"Order_items\".id = ?\n"
          ]
        },
        {
          "output_type": "stream",
          "name": "stderr",
          "text": [
            "INFO:sqlalchemy.engine.Engine:SELECT \"Order_items\".id AS \"Order_items_id\", \"Order_items\".order_id AS \"Order_items_order_id\", \"Order_items\".product_id AS \"Order_items_product_id\", \"Order_items\".quantity AS \"Order_items_quantity\" \n",
            "FROM \"Order_items\" \n",
            "WHERE \"Order_items\".id = ?\n"
          ]
        },
        {
          "output_type": "stream",
          "name": "stdout",
          "text": [
            "2025-05-13 12:13:38,250 INFO sqlalchemy.engine.Engine [cached since 0.2317s ago] (12,)\n"
          ]
        },
        {
          "output_type": "stream",
          "name": "stderr",
          "text": [
            "INFO:sqlalchemy.engine.Engine:[cached since 0.2317s ago] (12,)\n"
          ]
        },
        {
          "output_type": "stream",
          "name": "stdout",
          "text": [
            "2025-05-13 12:13:38,253 INFO sqlalchemy.engine.Engine INSERT INTO \"Order_items\" (order_id, product_id, quantity) VALUES (?, ?, ?)\n"
          ]
        },
        {
          "output_type": "stream",
          "name": "stderr",
          "text": [
            "INFO:sqlalchemy.engine.Engine:INSERT INTO \"Order_items\" (order_id, product_id, quantity) VALUES (?, ?, ?)\n"
          ]
        },
        {
          "output_type": "stream",
          "name": "stdout",
          "text": [
            "2025-05-13 12:13:38,255 INFO sqlalchemy.engine.Engine [cached since 0.2588s ago] (7, 3, 1)\n"
          ]
        },
        {
          "output_type": "stream",
          "name": "stderr",
          "text": [
            "INFO:sqlalchemy.engine.Engine:[cached since 0.2588s ago] (7, 3, 1)\n"
          ]
        },
        {
          "output_type": "stream",
          "name": "stdout",
          "text": [
            "2025-05-13 12:13:38,257 INFO sqlalchemy.engine.Engine COMMIT\n"
          ]
        },
        {
          "output_type": "stream",
          "name": "stderr",
          "text": [
            "INFO:sqlalchemy.engine.Engine:COMMIT\n"
          ]
        },
        {
          "output_type": "stream",
          "name": "stdout",
          "text": [
            "2025-05-13 12:13:38,267 INFO sqlalchemy.engine.Engine BEGIN (implicit)\n"
          ]
        },
        {
          "output_type": "stream",
          "name": "stderr",
          "text": [
            "INFO:sqlalchemy.engine.Engine:BEGIN (implicit)\n"
          ]
        },
        {
          "output_type": "stream",
          "name": "stdout",
          "text": [
            "2025-05-13 12:13:38,270 INFO sqlalchemy.engine.Engine SELECT \"Order_items\".id AS \"Order_items_id\", \"Order_items\".order_id AS \"Order_items_order_id\", \"Order_items\".product_id AS \"Order_items_product_id\", \"Order_items\".quantity AS \"Order_items_quantity\" \n",
            "FROM \"Order_items\" \n",
            "WHERE \"Order_items\".id = ?\n"
          ]
        },
        {
          "output_type": "stream",
          "name": "stderr",
          "text": [
            "INFO:sqlalchemy.engine.Engine:SELECT \"Order_items\".id AS \"Order_items_id\", \"Order_items\".order_id AS \"Order_items_order_id\", \"Order_items\".product_id AS \"Order_items_product_id\", \"Order_items\".quantity AS \"Order_items_quantity\" \n",
            "FROM \"Order_items\" \n",
            "WHERE \"Order_items\".id = ?\n"
          ]
        },
        {
          "output_type": "stream",
          "name": "stdout",
          "text": [
            "2025-05-13 12:13:38,271 INFO sqlalchemy.engine.Engine [cached since 0.253s ago] (13,)\n"
          ]
        },
        {
          "output_type": "stream",
          "name": "stderr",
          "text": [
            "INFO:sqlalchemy.engine.Engine:[cached since 0.253s ago] (13,)\n"
          ]
        },
        {
          "output_type": "stream",
          "name": "stdout",
          "text": [
            "2025-05-13 12:13:38,275 INFO sqlalchemy.engine.Engine INSERT INTO \"Order_items\" (order_id, product_id, quantity) VALUES (?, ?, ?)\n"
          ]
        },
        {
          "output_type": "stream",
          "name": "stderr",
          "text": [
            "INFO:sqlalchemy.engine.Engine:INSERT INTO \"Order_items\" (order_id, product_id, quantity) VALUES (?, ?, ?)\n"
          ]
        },
        {
          "output_type": "stream",
          "name": "stdout",
          "text": [
            "2025-05-13 12:13:38,276 INFO sqlalchemy.engine.Engine [cached since 0.2801s ago] (7, 4, 1)\n"
          ]
        },
        {
          "output_type": "stream",
          "name": "stderr",
          "text": [
            "INFO:sqlalchemy.engine.Engine:[cached since 0.2801s ago] (7, 4, 1)\n"
          ]
        },
        {
          "output_type": "stream",
          "name": "stdout",
          "text": [
            "2025-05-13 12:13:38,278 INFO sqlalchemy.engine.Engine COMMIT\n"
          ]
        },
        {
          "output_type": "stream",
          "name": "stderr",
          "text": [
            "INFO:sqlalchemy.engine.Engine:COMMIT\n"
          ]
        },
        {
          "output_type": "stream",
          "name": "stdout",
          "text": [
            "2025-05-13 12:13:38,288 INFO sqlalchemy.engine.Engine BEGIN (implicit)\n"
          ]
        },
        {
          "output_type": "stream",
          "name": "stderr",
          "text": [
            "INFO:sqlalchemy.engine.Engine:BEGIN (implicit)\n"
          ]
        },
        {
          "output_type": "stream",
          "name": "stdout",
          "text": [
            "2025-05-13 12:13:38,291 INFO sqlalchemy.engine.Engine SELECT \"Order_items\".id AS \"Order_items_id\", \"Order_items\".order_id AS \"Order_items_order_id\", \"Order_items\".product_id AS \"Order_items_product_id\", \"Order_items\".quantity AS \"Order_items_quantity\" \n",
            "FROM \"Order_items\" \n",
            "WHERE \"Order_items\".id = ?\n"
          ]
        },
        {
          "output_type": "stream",
          "name": "stderr",
          "text": [
            "INFO:sqlalchemy.engine.Engine:SELECT \"Order_items\".id AS \"Order_items_id\", \"Order_items\".order_id AS \"Order_items_order_id\", \"Order_items\".product_id AS \"Order_items_product_id\", \"Order_items\".quantity AS \"Order_items_quantity\" \n",
            "FROM \"Order_items\" \n",
            "WHERE \"Order_items\".id = ?\n"
          ]
        },
        {
          "output_type": "stream",
          "name": "stdout",
          "text": [
            "2025-05-13 12:13:38,292 INFO sqlalchemy.engine.Engine [cached since 0.2737s ago] (14,)\n"
          ]
        },
        {
          "output_type": "stream",
          "name": "stderr",
          "text": [
            "INFO:sqlalchemy.engine.Engine:[cached since 0.2737s ago] (14,)\n"
          ]
        },
        {
          "output_type": "stream",
          "name": "stdout",
          "text": [
            "2025-05-13 12:13:38,295 INFO sqlalchemy.engine.Engine INSERT INTO \"Order_items\" (order_id, product_id, quantity) VALUES (?, ?, ?)\n"
          ]
        },
        {
          "output_type": "stream",
          "name": "stderr",
          "text": [
            "INFO:sqlalchemy.engine.Engine:INSERT INTO \"Order_items\" (order_id, product_id, quantity) VALUES (?, ?, ?)\n"
          ]
        },
        {
          "output_type": "stream",
          "name": "stdout",
          "text": [
            "2025-05-13 12:13:38,297 INFO sqlalchemy.engine.Engine [cached since 0.3014s ago] (8, 5, 2)\n"
          ]
        },
        {
          "output_type": "stream",
          "name": "stderr",
          "text": [
            "INFO:sqlalchemy.engine.Engine:[cached since 0.3014s ago] (8, 5, 2)\n"
          ]
        },
        {
          "output_type": "stream",
          "name": "stdout",
          "text": [
            "2025-05-13 12:13:38,300 INFO sqlalchemy.engine.Engine COMMIT\n"
          ]
        },
        {
          "output_type": "stream",
          "name": "stderr",
          "text": [
            "INFO:sqlalchemy.engine.Engine:COMMIT\n"
          ]
        },
        {
          "output_type": "stream",
          "name": "stdout",
          "text": [
            "2025-05-13 12:13:38,308 INFO sqlalchemy.engine.Engine BEGIN (implicit)\n"
          ]
        },
        {
          "output_type": "stream",
          "name": "stderr",
          "text": [
            "INFO:sqlalchemy.engine.Engine:BEGIN (implicit)\n"
          ]
        },
        {
          "output_type": "stream",
          "name": "stdout",
          "text": [
            "2025-05-13 12:13:38,310 INFO sqlalchemy.engine.Engine SELECT \"Order_items\".id AS \"Order_items_id\", \"Order_items\".order_id AS \"Order_items_order_id\", \"Order_items\".product_id AS \"Order_items_product_id\", \"Order_items\".quantity AS \"Order_items_quantity\" \n",
            "FROM \"Order_items\" \n",
            "WHERE \"Order_items\".id = ?\n"
          ]
        },
        {
          "output_type": "stream",
          "name": "stderr",
          "text": [
            "INFO:sqlalchemy.engine.Engine:SELECT \"Order_items\".id AS \"Order_items_id\", \"Order_items\".order_id AS \"Order_items_order_id\", \"Order_items\".product_id AS \"Order_items_product_id\", \"Order_items\".quantity AS \"Order_items_quantity\" \n",
            "FROM \"Order_items\" \n",
            "WHERE \"Order_items\".id = ?\n"
          ]
        },
        {
          "output_type": "stream",
          "name": "stdout",
          "text": [
            "2025-05-13 12:13:38,311 INFO sqlalchemy.engine.Engine [cached since 0.293s ago] (15,)\n"
          ]
        },
        {
          "output_type": "stream",
          "name": "stderr",
          "text": [
            "INFO:sqlalchemy.engine.Engine:[cached since 0.293s ago] (15,)\n"
          ]
        },
        {
          "output_type": "stream",
          "name": "stdout",
          "text": [
            "2025-05-13 12:13:38,315 INFO sqlalchemy.engine.Engine INSERT INTO \"Order_items\" (order_id, product_id, quantity) VALUES (?, ?, ?)\n"
          ]
        },
        {
          "output_type": "stream",
          "name": "stderr",
          "text": [
            "INFO:sqlalchemy.engine.Engine:INSERT INTO \"Order_items\" (order_id, product_id, quantity) VALUES (?, ?, ?)\n"
          ]
        },
        {
          "output_type": "stream",
          "name": "stdout",
          "text": [
            "2025-05-13 12:13:38,316 INFO sqlalchemy.engine.Engine [cached since 0.3205s ago] (8, 6, 1)\n"
          ]
        },
        {
          "output_type": "stream",
          "name": "stderr",
          "text": [
            "INFO:sqlalchemy.engine.Engine:[cached since 0.3205s ago] (8, 6, 1)\n"
          ]
        },
        {
          "output_type": "stream",
          "name": "stdout",
          "text": [
            "2025-05-13 12:13:38,318 INFO sqlalchemy.engine.Engine COMMIT\n"
          ]
        },
        {
          "output_type": "stream",
          "name": "stderr",
          "text": [
            "INFO:sqlalchemy.engine.Engine:COMMIT\n"
          ]
        },
        {
          "output_type": "stream",
          "name": "stdout",
          "text": [
            "2025-05-13 12:13:38,329 INFO sqlalchemy.engine.Engine BEGIN (implicit)\n"
          ]
        },
        {
          "output_type": "stream",
          "name": "stderr",
          "text": [
            "INFO:sqlalchemy.engine.Engine:BEGIN (implicit)\n"
          ]
        },
        {
          "output_type": "stream",
          "name": "stdout",
          "text": [
            "2025-05-13 12:13:38,331 INFO sqlalchemy.engine.Engine SELECT \"Order_items\".id AS \"Order_items_id\", \"Order_items\".order_id AS \"Order_items_order_id\", \"Order_items\".product_id AS \"Order_items_product_id\", \"Order_items\".quantity AS \"Order_items_quantity\" \n",
            "FROM \"Order_items\" \n",
            "WHERE \"Order_items\".id = ?\n"
          ]
        },
        {
          "output_type": "stream",
          "name": "stderr",
          "text": [
            "INFO:sqlalchemy.engine.Engine:SELECT \"Order_items\".id AS \"Order_items_id\", \"Order_items\".order_id AS \"Order_items_order_id\", \"Order_items\".product_id AS \"Order_items_product_id\", \"Order_items\".quantity AS \"Order_items_quantity\" \n",
            "FROM \"Order_items\" \n",
            "WHERE \"Order_items\".id = ?\n"
          ]
        },
        {
          "output_type": "stream",
          "name": "stdout",
          "text": [
            "2025-05-13 12:13:38,332 INFO sqlalchemy.engine.Engine [cached since 0.314s ago] (16,)\n"
          ]
        },
        {
          "output_type": "stream",
          "name": "stderr",
          "text": [
            "INFO:sqlalchemy.engine.Engine:[cached since 0.314s ago] (16,)\n"
          ]
        },
        {
          "output_type": "stream",
          "name": "stdout",
          "text": [
            "2025-05-13 12:13:38,336 INFO sqlalchemy.engine.Engine INSERT INTO \"Order_items\" (order_id, product_id, quantity) VALUES (?, ?, ?)\n"
          ]
        },
        {
          "output_type": "stream",
          "name": "stderr",
          "text": [
            "INFO:sqlalchemy.engine.Engine:INSERT INTO \"Order_items\" (order_id, product_id, quantity) VALUES (?, ?, ?)\n"
          ]
        },
        {
          "output_type": "stream",
          "name": "stdout",
          "text": [
            "2025-05-13 12:13:38,338 INFO sqlalchemy.engine.Engine [cached since 0.3421s ago] (9, 7, 3)\n"
          ]
        },
        {
          "output_type": "stream",
          "name": "stderr",
          "text": [
            "INFO:sqlalchemy.engine.Engine:[cached since 0.3421s ago] (9, 7, 3)\n"
          ]
        },
        {
          "output_type": "stream",
          "name": "stdout",
          "text": [
            "2025-05-13 12:13:38,340 INFO sqlalchemy.engine.Engine COMMIT\n"
          ]
        },
        {
          "output_type": "stream",
          "name": "stderr",
          "text": [
            "INFO:sqlalchemy.engine.Engine:COMMIT\n"
          ]
        },
        {
          "output_type": "stream",
          "name": "stdout",
          "text": [
            "2025-05-13 12:13:38,350 INFO sqlalchemy.engine.Engine BEGIN (implicit)\n"
          ]
        },
        {
          "output_type": "stream",
          "name": "stderr",
          "text": [
            "INFO:sqlalchemy.engine.Engine:BEGIN (implicit)\n"
          ]
        },
        {
          "output_type": "stream",
          "name": "stdout",
          "text": [
            "2025-05-13 12:13:38,352 INFO sqlalchemy.engine.Engine SELECT \"Order_items\".id AS \"Order_items_id\", \"Order_items\".order_id AS \"Order_items_order_id\", \"Order_items\".product_id AS \"Order_items_product_id\", \"Order_items\".quantity AS \"Order_items_quantity\" \n",
            "FROM \"Order_items\" \n",
            "WHERE \"Order_items\".id = ?\n"
          ]
        },
        {
          "output_type": "stream",
          "name": "stderr",
          "text": [
            "INFO:sqlalchemy.engine.Engine:SELECT \"Order_items\".id AS \"Order_items_id\", \"Order_items\".order_id AS \"Order_items_order_id\", \"Order_items\".product_id AS \"Order_items_product_id\", \"Order_items\".quantity AS \"Order_items_quantity\" \n",
            "FROM \"Order_items\" \n",
            "WHERE \"Order_items\".id = ?\n"
          ]
        },
        {
          "output_type": "stream",
          "name": "stdout",
          "text": [
            "2025-05-13 12:13:38,353 INFO sqlalchemy.engine.Engine [cached since 0.335s ago] (17,)\n"
          ]
        },
        {
          "output_type": "stream",
          "name": "stderr",
          "text": [
            "INFO:sqlalchemy.engine.Engine:[cached since 0.335s ago] (17,)\n"
          ]
        },
        {
          "output_type": "stream",
          "name": "stdout",
          "text": [
            "2025-05-13 12:13:38,357 INFO sqlalchemy.engine.Engine INSERT INTO \"Order_items\" (order_id, product_id, quantity) VALUES (?, ?, ?)\n"
          ]
        },
        {
          "output_type": "stream",
          "name": "stderr",
          "text": [
            "INFO:sqlalchemy.engine.Engine:INSERT INTO \"Order_items\" (order_id, product_id, quantity) VALUES (?, ?, ?)\n"
          ]
        },
        {
          "output_type": "stream",
          "name": "stdout",
          "text": [
            "2025-05-13 12:13:38,359 INFO sqlalchemy.engine.Engine [cached since 0.3631s ago] (9, 8, 1)\n"
          ]
        },
        {
          "output_type": "stream",
          "name": "stderr",
          "text": [
            "INFO:sqlalchemy.engine.Engine:[cached since 0.3631s ago] (9, 8, 1)\n"
          ]
        },
        {
          "output_type": "stream",
          "name": "stdout",
          "text": [
            "2025-05-13 12:13:38,361 INFO sqlalchemy.engine.Engine COMMIT\n"
          ]
        },
        {
          "output_type": "stream",
          "name": "stderr",
          "text": [
            "INFO:sqlalchemy.engine.Engine:COMMIT\n"
          ]
        },
        {
          "output_type": "stream",
          "name": "stdout",
          "text": [
            "2025-05-13 12:13:38,370 INFO sqlalchemy.engine.Engine BEGIN (implicit)\n"
          ]
        },
        {
          "output_type": "stream",
          "name": "stderr",
          "text": [
            "INFO:sqlalchemy.engine.Engine:BEGIN (implicit)\n"
          ]
        },
        {
          "output_type": "stream",
          "name": "stdout",
          "text": [
            "2025-05-13 12:13:38,375 INFO sqlalchemy.engine.Engine SELECT \"Order_items\".id AS \"Order_items_id\", \"Order_items\".order_id AS \"Order_items_order_id\", \"Order_items\".product_id AS \"Order_items_product_id\", \"Order_items\".quantity AS \"Order_items_quantity\" \n",
            "FROM \"Order_items\" \n",
            "WHERE \"Order_items\".id = ?\n"
          ]
        },
        {
          "output_type": "stream",
          "name": "stderr",
          "text": [
            "INFO:sqlalchemy.engine.Engine:SELECT \"Order_items\".id AS \"Order_items_id\", \"Order_items\".order_id AS \"Order_items_order_id\", \"Order_items\".product_id AS \"Order_items_product_id\", \"Order_items\".quantity AS \"Order_items_quantity\" \n",
            "FROM \"Order_items\" \n",
            "WHERE \"Order_items\".id = ?\n"
          ]
        },
        {
          "output_type": "stream",
          "name": "stdout",
          "text": [
            "2025-05-13 12:13:38,376 INFO sqlalchemy.engine.Engine [cached since 0.3581s ago] (18,)\n"
          ]
        },
        {
          "output_type": "stream",
          "name": "stderr",
          "text": [
            "INFO:sqlalchemy.engine.Engine:[cached since 0.3581s ago] (18,)\n"
          ]
        },
        {
          "output_type": "stream",
          "name": "stdout",
          "text": [
            "2025-05-13 12:13:38,381 INFO sqlalchemy.engine.Engine INSERT INTO \"Order_items\" (order_id, product_id, quantity) VALUES (?, ?, ?)\n"
          ]
        },
        {
          "output_type": "stream",
          "name": "stderr",
          "text": [
            "INFO:sqlalchemy.engine.Engine:INSERT INTO \"Order_items\" (order_id, product_id, quantity) VALUES (?, ?, ?)\n"
          ]
        },
        {
          "output_type": "stream",
          "name": "stdout",
          "text": [
            "2025-05-13 12:13:38,384 INFO sqlalchemy.engine.Engine [cached since 0.388s ago] (10, 9, 1)\n"
          ]
        },
        {
          "output_type": "stream",
          "name": "stderr",
          "text": [
            "INFO:sqlalchemy.engine.Engine:[cached since 0.388s ago] (10, 9, 1)\n"
          ]
        },
        {
          "output_type": "stream",
          "name": "stdout",
          "text": [
            "2025-05-13 12:13:38,386 INFO sqlalchemy.engine.Engine COMMIT\n"
          ]
        },
        {
          "output_type": "stream",
          "name": "stderr",
          "text": [
            "INFO:sqlalchemy.engine.Engine:COMMIT\n"
          ]
        },
        {
          "output_type": "stream",
          "name": "stdout",
          "text": [
            "2025-05-13 12:13:38,395 INFO sqlalchemy.engine.Engine BEGIN (implicit)\n"
          ]
        },
        {
          "output_type": "stream",
          "name": "stderr",
          "text": [
            "INFO:sqlalchemy.engine.Engine:BEGIN (implicit)\n"
          ]
        },
        {
          "output_type": "stream",
          "name": "stdout",
          "text": [
            "2025-05-13 12:13:38,397 INFO sqlalchemy.engine.Engine SELECT \"Order_items\".id AS \"Order_items_id\", \"Order_items\".order_id AS \"Order_items_order_id\", \"Order_items\".product_id AS \"Order_items_product_id\", \"Order_items\".quantity AS \"Order_items_quantity\" \n",
            "FROM \"Order_items\" \n",
            "WHERE \"Order_items\".id = ?\n"
          ]
        },
        {
          "output_type": "stream",
          "name": "stderr",
          "text": [
            "INFO:sqlalchemy.engine.Engine:SELECT \"Order_items\".id AS \"Order_items_id\", \"Order_items\".order_id AS \"Order_items_order_id\", \"Order_items\".product_id AS \"Order_items_product_id\", \"Order_items\".quantity AS \"Order_items_quantity\" \n",
            "FROM \"Order_items\" \n",
            "WHERE \"Order_items\".id = ?\n"
          ]
        },
        {
          "output_type": "stream",
          "name": "stdout",
          "text": [
            "2025-05-13 12:13:38,398 INFO sqlalchemy.engine.Engine [cached since 0.3801s ago] (19,)\n"
          ]
        },
        {
          "output_type": "stream",
          "name": "stderr",
          "text": [
            "INFO:sqlalchemy.engine.Engine:[cached since 0.3801s ago] (19,)\n"
          ]
        },
        {
          "output_type": "stream",
          "name": "stdout",
          "text": [
            "2025-05-13 12:13:38,401 INFO sqlalchemy.engine.Engine INSERT INTO \"Order_items\" (order_id, product_id, quantity) VALUES (?, ?, ?)\n"
          ]
        },
        {
          "output_type": "stream",
          "name": "stderr",
          "text": [
            "INFO:sqlalchemy.engine.Engine:INSERT INTO \"Order_items\" (order_id, product_id, quantity) VALUES (?, ?, ?)\n"
          ]
        },
        {
          "output_type": "stream",
          "name": "stdout",
          "text": [
            "2025-05-13 12:13:38,403 INFO sqlalchemy.engine.Engine [cached since 0.4069s ago] (10, 10, 1)\n"
          ]
        },
        {
          "output_type": "stream",
          "name": "stderr",
          "text": [
            "INFO:sqlalchemy.engine.Engine:[cached since 0.4069s ago] (10, 10, 1)\n"
          ]
        },
        {
          "output_type": "stream",
          "name": "stdout",
          "text": [
            "2025-05-13 12:13:38,406 INFO sqlalchemy.engine.Engine COMMIT\n"
          ]
        },
        {
          "output_type": "stream",
          "name": "stderr",
          "text": [
            "INFO:sqlalchemy.engine.Engine:COMMIT\n"
          ]
        },
        {
          "output_type": "stream",
          "name": "stdout",
          "text": [
            "2025-05-13 12:13:38,415 INFO sqlalchemy.engine.Engine BEGIN (implicit)\n"
          ]
        },
        {
          "output_type": "stream",
          "name": "stderr",
          "text": [
            "INFO:sqlalchemy.engine.Engine:BEGIN (implicit)\n"
          ]
        },
        {
          "output_type": "stream",
          "name": "stdout",
          "text": [
            "2025-05-13 12:13:38,418 INFO sqlalchemy.engine.Engine SELECT \"Order_items\".id AS \"Order_items_id\", \"Order_items\".order_id AS \"Order_items_order_id\", \"Order_items\".product_id AS \"Order_items_product_id\", \"Order_items\".quantity AS \"Order_items_quantity\" \n",
            "FROM \"Order_items\" \n",
            "WHERE \"Order_items\".id = ?\n"
          ]
        },
        {
          "output_type": "stream",
          "name": "stderr",
          "text": [
            "INFO:sqlalchemy.engine.Engine:SELECT \"Order_items\".id AS \"Order_items_id\", \"Order_items\".order_id AS \"Order_items_order_id\", \"Order_items\".product_id AS \"Order_items_product_id\", \"Order_items\".quantity AS \"Order_items_quantity\" \n",
            "FROM \"Order_items\" \n",
            "WHERE \"Order_items\".id = ?\n"
          ]
        },
        {
          "output_type": "stream",
          "name": "stdout",
          "text": [
            "2025-05-13 12:13:38,419 INFO sqlalchemy.engine.Engine [cached since 0.4011s ago] (20,)\n"
          ]
        },
        {
          "output_type": "stream",
          "name": "stderr",
          "text": [
            "INFO:sqlalchemy.engine.Engine:[cached since 0.4011s ago] (20,)\n"
          ]
        }
      ]
    },
    {
      "cell_type": "code",
      "source": [
        "# Convert the query result to a tuple of tuples for caching\n",
        "def execute_sql_query(query):\n",
        "    with engine.connect() as connection:\n",
        "        result = connection.execute(text(query))\n",
        "        if result.returns_rows:\n",
        "            return tuple(tuple(row) for row in result)\n",
        "        return ()\n",
        "\n",
        "# Define a cached version of the function\n",
        "@lru_cache(maxsize=32)\n",
        "def cached_execute_sql_query(query):\n",
        "    return execute_sql_query(query)"
      ],
      "metadata": {
        "id": "iwY28dlSR5Pn"
      },
      "execution_count": 102,
      "outputs": []
    },
    {
      "cell_type": "code",
      "source": [
        "# Define a cached version of the function\n",
        "from functools import lru_cache\n",
        "\n",
        "@lru_cache(maxsize=32)\n",
        "def cached_execute_sql_query(query):\n",
        "    return execute_sql_query(query)"
      ],
      "metadata": {
        "id": "EHAT9H4yXOcP"
      },
      "execution_count": 103,
      "outputs": []
    },
    {
      "cell_type": "code",
      "source": [
        "# Example usage\n",
        "\n",
        "#Which products did user_1 order and in what quantities\n",
        "\n",
        "sql_query = \"SELECT user_id, product_id, quantity FROM users JOIN orders ON users.id=orders.id JOIN Order_items on orders.id=Order_items.order_id WHERE user_id=1\"\n",
        "results=cached_execute_sql_query(sql_query)"
      ],
      "metadata": {
        "colab": {
          "base_uri": "https://localhost:8080/"
        },
        "id": "xSylfRvFWGIq",
        "outputId": "28272229-2ed3-4dd2-eb87-e426ade41c43"
      },
      "execution_count": 104,
      "outputs": [
        {
          "output_type": "stream",
          "name": "stdout",
          "text": [
            "2025-05-13 12:13:43,288 INFO sqlalchemy.engine.Engine BEGIN (implicit)\n"
          ]
        },
        {
          "output_type": "stream",
          "name": "stderr",
          "text": [
            "INFO:sqlalchemy.engine.Engine:BEGIN (implicit)\n"
          ]
        },
        {
          "output_type": "stream",
          "name": "stdout",
          "text": [
            "2025-05-13 12:13:43,291 INFO sqlalchemy.engine.Engine SELECT user_id, product_id, quantity FROM users JOIN orders ON users.id=orders.id JOIN Order_items on orders.id=Order_items.order_id WHERE user_id=1\n"
          ]
        },
        {
          "output_type": "stream",
          "name": "stderr",
          "text": [
            "INFO:sqlalchemy.engine.Engine:SELECT user_id, product_id, quantity FROM users JOIN orders ON users.id=orders.id JOIN Order_items on orders.id=Order_items.order_id WHERE user_id=1\n"
          ]
        },
        {
          "output_type": "stream",
          "name": "stdout",
          "text": [
            "2025-05-13 12:13:43,292 INFO sqlalchemy.engine.Engine [generated in 0.00369s] ()\n"
          ]
        },
        {
          "output_type": "stream",
          "name": "stderr",
          "text": [
            "INFO:sqlalchemy.engine.Engine:[generated in 0.00369s] ()\n"
          ]
        },
        {
          "output_type": "stream",
          "name": "stdout",
          "text": [
            "2025-05-13 12:13:43,294 INFO sqlalchemy.engine.Engine ROLLBACK\n"
          ]
        },
        {
          "output_type": "stream",
          "name": "stderr",
          "text": [
            "INFO:sqlalchemy.engine.Engine:ROLLBACK\n"
          ]
        }
      ]
    },
    {
      "cell_type": "code",
      "source": [
        "for row in results:\n",
        "    print(row)"
      ],
      "metadata": {
        "colab": {
          "base_uri": "https://localhost:8080/"
        },
        "id": "K-88PpJTXock",
        "outputId": "89c7e01a-da27-4541-be45-bc2293c71ffb"
      },
      "execution_count": 105,
      "outputs": [
        {
          "output_type": "stream",
          "name": "stdout",
          "text": [
            "(1, 1, 2)\n",
            "(1, 2, 1)\n"
          ]
        }
      ]
    },
    {
      "cell_type": "code",
      "source": [
        "#Save the output log to a file on disk\n",
        "\n",
        "import logging\n",
        "from sqlalchemy import create_engine, text\n",
        "from functools import lru_cache\n",
        "\n",
        "# Configure logging\n",
        "logging.basicConfig(\n",
        "    filename='database_queries.log',  # Log file name\n",
        "    filemode='w',  # Overwrite the log file each time the script runs; use 'a' for appending\n",
        "    format='%(asctime)s - %(levelname)s - %(message)s',\n",
        "    level=logging.INFO  # Set the logging level to INFO or DEBUG as needed\n",
        ")\n",
        "\n",
        "# Create an engine\n",
        "engine = create_engine('sqlite:///ecommerce_5.db', echo=True)\n",
        "\n",
        "# Convert the query result to a tuple of tuples for caching\n",
        "def execute_sql_query(query):\n",
        "    logging.info(f\"Executing SQL query: {query}\")\n",
        "    with engine.connect() as connection:\n",
        "        result = connection.execute(text(query))\n",
        "        if result.returns_rows:\n",
        "            rows = tuple(tuple(row) for row in result)\n",
        "            logging.info(f\"Query returned {len(rows)} rows.\")\n",
        "            return rows\n",
        "        logging.info(\"Query returned no rows.\")\n",
        "        return ()\n",
        "\n",
        "# Define a cached version of the function\n",
        "@lru_cache(maxsize=32)\n",
        "def cached_execute_sql_query(query):\n",
        "    logging.info(f\"Attempting to execute cached SQL query: {query}\")\n",
        "    return execute_sql_query(query)\n",
        "\n",
        "# Example usage\n",
        "sql_query = \"SELECT * FROM users\"\n",
        "results = cached_execute_sql_query(sql_query)\n",
        "for row in results:\n",
        "    print(row)"
      ],
      "metadata": {
        "colab": {
          "base_uri": "https://localhost:8080/"
        },
        "id": "GHJv0p1tj_hU",
        "outputId": "ebe200e7-a8a5-4af5-ed4d-0645cbd922bb"
      },
      "execution_count": 106,
      "outputs": [
        {
          "output_type": "stream",
          "name": "stdout",
          "text": [
            "2025-05-13 12:16:20,085 INFO sqlalchemy.engine.Engine BEGIN (implicit)\n"
          ]
        },
        {
          "output_type": "stream",
          "name": "stderr",
          "text": [
            "INFO:sqlalchemy.engine.Engine:BEGIN (implicit)\n"
          ]
        },
        {
          "output_type": "stream",
          "name": "stdout",
          "text": [
            "2025-05-13 12:16:20,088 INFO sqlalchemy.engine.Engine SELECT * FROM users\n"
          ]
        },
        {
          "output_type": "stream",
          "name": "stderr",
          "text": [
            "INFO:sqlalchemy.engine.Engine:SELECT * FROM users\n"
          ]
        },
        {
          "output_type": "stream",
          "name": "stdout",
          "text": [
            "2025-05-13 12:16:20,090 INFO sqlalchemy.engine.Engine [generated in 0.00437s] ()\n"
          ]
        },
        {
          "output_type": "stream",
          "name": "stderr",
          "text": [
            "INFO:sqlalchemy.engine.Engine:[generated in 0.00437s] ()\n"
          ]
        },
        {
          "output_type": "stream",
          "name": "stdout",
          "text": [
            "2025-05-13 12:16:20,093 INFO sqlalchemy.engine.Engine ROLLBACK\n"
          ]
        },
        {
          "output_type": "stream",
          "name": "stderr",
          "text": [
            "INFO:sqlalchemy.engine.Engine:ROLLBACK\n"
          ]
        },
        {
          "output_type": "stream",
          "name": "stdout",
          "text": [
            "(1, 'Alice', 'alice@example.com')\n",
            "(2, 'Bob', 'bob@example.com')\n",
            "(3, 'Charlie', 'charlie@example.com')\n",
            "(4, 'David', 'david@example.com')\n",
            "(5, 'Eve', 'eve@example.com')\n",
            "(6, 'Frank', 'frank@example.com')\n",
            "(7, 'Grace', 'grace@example.com')\n",
            "(8, 'Heidi', 'heidi@example.com')\n",
            "(9, 'Ivan', 'ivan@example.com')\n",
            "(10, 'Judy', 'judy@example.com')\n"
          ]
        }
      ]
    },
    {
      "cell_type": "code",
      "source": [
        "# Close the session\n",
        "session.close()"
      ],
      "metadata": {
        "colab": {
          "base_uri": "https://localhost:8080/"
        },
        "id": "tumd2hIPNqwf",
        "outputId": "0bd99b22-0be1-4659-9efc-d389e8f1ed59"
      },
      "execution_count": 107,
      "outputs": [
        {
          "output_type": "stream",
          "name": "stdout",
          "text": [
            "2025-05-13 12:16:39,762 INFO sqlalchemy.engine.Engine ROLLBACK\n"
          ]
        },
        {
          "output_type": "stream",
          "name": "stderr",
          "text": [
            "INFO:sqlalchemy.engine.Engine:ROLLBACK\n"
          ]
        }
      ]
    }
  ]
}