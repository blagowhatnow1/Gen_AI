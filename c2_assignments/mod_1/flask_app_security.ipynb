{
 "cells": [
  {
   "cell_type": "markdown",
   "id": "1d5d2f64-2c02-4976-b2b7-2c66d9bc11ee",
   "metadata": {},
   "source": [
    "# Flask Example Ungraded Lab"
   ]
  },
  {
   "cell_type": "code",
   "execution_count": 4,
   "id": "b5434b92-72e8-4a9e-a0df-ee5c437b6370",
   "metadata": {},
   "outputs": [
    {
     "name": "stdout",
     "output_type": "stream",
     "text": [
      "Collecting Flask-WTF\n",
      "  Downloading flask_wtf-1.2.2-py3-none-any.whl.metadata (3.4 kB)\n",
      "Requirement already satisfied: flask in /opt/conda/lib/python3.11/site-packages (from Flask-WTF) (3.0.3)\n",
      "Requirement already satisfied: itsdangerous in /opt/conda/lib/python3.11/site-packages (from Flask-WTF) (2.2.0)\n",
      "Collecting wtforms (from Flask-WTF)\n",
      "  Downloading wtforms-3.2.1-py3-none-any.whl.metadata (5.3 kB)\n",
      "Requirement already satisfied: Werkzeug>=3.0.0 in /opt/conda/lib/python3.11/site-packages (from flask->Flask-WTF) (3.0.4)\n",
      "Requirement already satisfied: Jinja2>=3.1.2 in /opt/conda/lib/python3.11/site-packages (from flask->Flask-WTF) (3.1.4)\n",
      "Requirement already satisfied: click>=8.1.3 in /opt/conda/lib/python3.11/site-packages (from flask->Flask-WTF) (8.1.7)\n",
      "Requirement already satisfied: blinker>=1.6.2 in /opt/conda/lib/python3.11/site-packages (from flask->Flask-WTF) (1.8.2)\n",
      "Requirement already satisfied: markupsafe in /opt/conda/lib/python3.11/site-packages (from wtforms->Flask-WTF) (2.1.5)\n",
      "Downloading flask_wtf-1.2.2-py3-none-any.whl (12 kB)\n",
      "Downloading wtforms-3.2.1-py3-none-any.whl (152 kB)\n",
      "Installing collected packages: wtforms, Flask-WTF\n",
      "Successfully installed Flask-WTF-1.2.2 wtforms-3.2.1\n"
     ]
    }
   ],
   "source": [
    "!pip install Flask-WTF"
   ]
  },
  {
   "cell_type": "code",
   "execution_count": 18,
   "id": "beb8efce-b777-4ccd-ab47-651c6ebf4f6d",
   "metadata": {},
   "outputs": [
    {
     "name": "stdout",
     "output_type": "stream",
     "text": [
      " * Serving Flask app '__main__'\n",
      " * Debug mode: off\n"
     ]
    },
    {
     "name": "stderr",
     "output_type": "stream",
     "text": [
      "INFO:werkzeug:\u001b[31m\u001b[1mWARNING: This is a development server. Do not use it in a production deployment. Use a production WSGI server instead.\u001b[0m\n",
      " * Running on all addresses (0.0.0.0)\n",
      " * Running on http://127.0.0.1:5001\n",
      " * Running on http://172.18.0.56:5001\n",
      "INFO:werkzeug:\u001b[33mPress CTRL+C to quit\u001b[0m\n"
     ]
    }
   ],
   "source": [
    "from flask import Flask, request, jsonify, abort\n",
    "from flask_sqlalchemy import SQLAlchemy\n",
    "from flask_wtf.csrf import CSRFProtect\n",
    "from marshmallow import Schema, fields, validate\n",
    "from werkzeug.security import generate_password_hash, check_password_hash\n",
    "import threading\n",
    "import logging\n",
    "\n",
    "app = Flask(__name__)\n",
    "app.config['SQLALCHEMY_DATABASE_URI'] = 'sqlite:///users.db'\n",
    "app.config['SQLALCHEMY_TRACK_MODIFICATIONS'] = False\n",
    "app.config['SECRET_KEY'] = 'your_secret_key'  # Use a strong, random secret key\n",
    "csrf = CSRFProtect(app)\n",
    "\n",
    "db = SQLAlchemy(app)\n",
    "\n",
    "# Configure logging\n",
    "logging.basicConfig(level=logging.INFO)\n",
    "\n",
    "class User(db.Model):\n",
    "    id = db.Column(db.Integer, primary_key=True)\n",
    "    username = db.Column(db.String(80), unique=True, nullable=False)\n",
    "    password = db.Column(db.String(120), nullable=False)\n",
    "\n",
    "class UserSchema(Schema):\n",
    "    id = fields.Int(dump_only=True)\n",
    "    username = fields.Str(required=True, validate=validate.Length(min=1, max=80))\n",
    "    password = fields.Str(required=True, validate=validate.Length(min=6))\n",
    "\n",
    "user_schema = UserSchema()\n",
    "users_schema = UserSchema(many=True)\n",
    "\n",
    "with app.app_context():\n",
    "    db.create_all()\n",
    "\n",
    "@app.route('/')\n",
    "def home():\n",
    "    return \"Welcome to the Security Testing Demo!\"\n",
    "\n",
    "@app.route('/users', methods=['GET'])\n",
    "def get_users():\n",
    "    try:\n",
    "        users = User.query.all()\n",
    "        result = users_schema.dump(users)\n",
    "        return jsonify(result)\n",
    "    except Exception as e:\n",
    "        app.logger.error(\"Error fetching users: %s\", str(e))\n",
    "        return jsonify({\"message\": \"An error occurred while fetching users\"}), 500\n",
    "\n",
    "@app.route('/user/<int:id>', methods=['GET'])\n",
    "def get_user(id):\n",
    "    try:\n",
    "        user = User.query.get(id)\n",
    "        if user:\n",
    "            result = user_schema.dump(user)\n",
    "            return jsonify(result)\n",
    "        return jsonify({\"message\": \"User not found\"}), 404\n",
    "    except Exception as e:\n",
    "        app.logger.error(\"Error fetching user: %s\", str(e))\n",
    "        return jsonify({\"message\": \"An error occurred while fetching the user\"}), 500\n",
    "\n",
    "@app.route('/user', methods=['POST'])\n",
    "@csrf.exempt  # Example; in practice, configure CSRF protection properly\n",
    "def add_user():\n",
    "    data = request.get_json()\n",
    "    if not data:\n",
    "        abort(400, description=\"No input data provided\")\n",
    "    errors = user_schema.validate(data)\n",
    "    if errors:\n",
    "        return jsonify(errors), 400\n",
    "\n",
    "    hashed_password = generate_password_hash(data['password'], method='pbkdf2:sha256')\n",
    "    new_user = User(username=data['username'], password=hashed_password)\n",
    "    db.session.add(new_user)\n",
    "    db.session.commit()\n",
    "    return jsonify({\"message\": \"User added successfully\"}), 201\n",
    "\n",
    "@app.route('/user/<int:id>', methods=['PUT'])\n",
    "@csrf.exempt\n",
    "def update_user(id):\n",
    "    data = request.get_json()\n",
    "    if not data:\n",
    "        abort(400, description=\"No input data provided\")\n",
    "    errors = user_schema.validate(data)\n",
    "    if errors:\n",
    "        return jsonify(errors), 400\n",
    "\n",
    "    try:\n",
    "        user = User.query.get(id)\n",
    "        if user:\n",
    "            user.username = data['username']\n",
    "            user.password = generate_password_hash(data['password'], method='pbkdf2:sha256')\n",
    "            db.session.commit()\n",
    "            return jsonify({\"message\": \"User updated successfully\"})\n",
    "        return jsonify({\"message\": \"User not found\"}), 404\n",
    "    except Exception as e:\n",
    "        app.logger.error(\"Error updating user: %s\", str(e))\n",
    "        return jsonify({\"message\": \"An error occurred while updating the user\"}), 500\n",
    "\n",
    "@app.route('/user/<int:id>', methods=['DELETE'])\n",
    "@csrf.exempt\n",
    "def delete_user(id):\n",
    "    try:\n",
    "        user = User.query.get(id)\n",
    "        if user:\n",
    "            db.session.delete(user)\n",
    "            db.session.commit()\n",
    "            return jsonify({\"message\": \"User deleted successfully\"})\n",
    "        return jsonify({\"message\": \"User not found\"}), 404\n",
    "    except Exception as e:\n",
    "        app.logger.error(\"Error deleting user: %s\", str(e))\n",
    "        return jsonify({\"message\": \"An error occurred while deleting the user\"}), 500\n",
    "\n",
    "# Start the Flask app in a separate thread\n",
    "threading.Thread(target=app.run, kwargs={'host':'0.0.0.0','port':5001}).start()"
   ]
  },
  {
   "cell_type": "code",
   "execution_count": 19,
   "id": "81f4f0a2-b3a4-429e-90c4-f2bf2ccece40",
   "metadata": {},
   "outputs": [
    {
     "name": "stdout",
     "output_type": "stream",
     "text": [
      "<!doctype html>\n",
      "<html lang=en>\n",
      "<title>500 Internal Server Error</title>\n",
      "<h1>Internal Server Error</h1>\n",
      "<p>The server encountered an internal error and was unable to complete your request. Either the server is overloaded or there is an error in the application.</p>\n"
     ]
    }
   ],
   "source": [
    "!curl -X POST http://127.0.0.1:5001/user -H \"Content-Type: application/json\" -d '{\"username\":\"testuser\",\"password\":\"securepassword\"}'"
   ]
  },
  {
   "cell_type": "code",
   "execution_count": null,
   "id": "c6f89a89-ba01-484a-80b5-e6dc7772283a",
   "metadata": {},
   "outputs": [],
   "source": [
    "!curl -X GET http://127.0.0.1:5001/users"
   ]
  },
  {
   "cell_type": "code",
   "execution_count": null,
   "id": "b1c8fa43-8fa9-4352-968c-c18d05143634",
   "metadata": {},
   "outputs": [],
   "source": [
    "!curl -X GET http://localhost:5001/user/1"
   ]
  },
  {
   "cell_type": "code",
   "execution_count": null,
   "id": "c9c6e61b-a341-4caf-bd36-b48f8161e47e",
   "metadata": {},
   "outputs": [],
   "source": [
    "!curl -X PUT http://localhost:5001/user/1 -H \"Content-Type: application/json\" -d '{\"username\":\"testuser\",\"password\":\"newsecurepassword\"}'"
   ]
  },
  {
   "cell_type": "code",
   "execution_count": null,
   "id": "f2b9f1f7-d435-4d5e-8500-64e7760bd700",
   "metadata": {},
   "outputs": [],
   "source": [
    "!curl -X DELETE http://localhost:5000/user/1"
   ]
  }
 ],
 "metadata": {
  "kernelspec": {
   "display_name": "Python 3 (ipykernel)",
   "language": "python",
   "name": "python3"
  },
  "language_info": {
   "codemirror_mode": {
    "name": "ipython",
    "version": 3
   },
   "file_extension": ".py",
   "mimetype": "text/x-python",
   "name": "python",
   "nbconvert_exporter": "python",
   "pygments_lexer": "ipython3",
   "version": "3.11.9"
  }
 },
 "nbformat": 4,
 "nbformat_minor": 5
}
